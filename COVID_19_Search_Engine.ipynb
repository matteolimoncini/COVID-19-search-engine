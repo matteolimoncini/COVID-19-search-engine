{
  "nbformat": 4,
  "nbformat_minor": 0,
  "metadata": {
    "colab": {
      "provenance": [],
      "toc_visible": true,
      "include_colab_link": true
    },
    "kernelspec": {
      "name": "python3",
      "display_name": "Python 3"
    },
    "language_info": {
      "name": "python"
    },
    "accelerator": "GPU"
  },
  "cells": [
    {
      "cell_type": "markdown",
      "metadata": {
        "id": "view-in-github",
        "colab_type": "text"
      },
      "source": [
        "<a href=\"https://colab.research.google.com/github/matteolimoncini/COVID-19-search-engine/blob/main/COVID_19_Search_Engine.ipynb\" target=\"_parent\"><img src=\"https://colab.research.google.com/assets/colab-badge.svg\" alt=\"Open In Colab\"/></a>"
      ]
    },
    {
      "cell_type": "code",
      "execution_count": null,
      "metadata": {
        "id": "XOmAN0IEoiGF"
      },
      "outputs": [],
      "source": [
        "# various import and install\n",
        "%%capture\n",
        "!pip install split-folders\n",
        "!pip install clustimage\n",
        "\n",
        "\n",
        "import tensorflow as tf\n",
        "import tensorflow_hub as hub\n",
        "import pandas as pd\n",
        "import numpy as np\n",
        "import matplotlib.pyplot as plt\n",
        "import splitfolders\n",
        "import os\n",
        "import urllib.request\n",
        "import IPython.display as display\n",
        "import shutil\n",
        "import pickle \n",
        "import time\n",
        "import datetime\n",
        "\n",
        "import seaborn as sns\n",
        "from sklearn.metrics import confusion_matrix\n",
        "\n",
        "from PIL import Image \n",
        "from random import randint\n",
        "from scipy.spatial import distance\n",
        "from tqdm import tqdm\n",
        "\n",
        "from clustimage import Clustimage\n",
        "\n",
        "from keras.models import Model\n",
        "from keras.applications.vgg16 import preprocess_input\n",
        "from keras.applications.vgg16 import VGG16\n",
        "from tensorflow.keras.applications.inception_v3 import InceptionV3\n",
        "from tensorflow.keras.applications.inception_v3 import preprocess_input\n",
        "from scipy.spatial import distance_matrix\n",
        "\n",
        "from sklearn.cluster import KMeans\n",
        "from sklearn.decomposition import PCA\n",
        "from sklearn.manifold import TSNE\n",
        "\n"
      ]
    },
    {
      "cell_type": "markdown",
      "source": [
        "#sarscov2 ctscan dataset"
      ],
      "metadata": {
        "id": "fyJ9BR4YqM6k"
      }
    },
    {
      "cell_type": "code",
      "source": [
        "# setting up kaggle and download dataset\n",
        "\n",
        "%%capture\n",
        "kaggle_path = '.kaggle'\n",
        "if not (os.path.exists(kaggle_path)):\n",
        "  !mkdir ~/.kaggle\n",
        "  !echo '{\"username\":\"matteolimoncini\",\"key\":\"c4df437bb6e9108ad29ae9744b503c89\"}' > ~/.kaggle/kaggle.json\n",
        "  !chmod 600 ~/.kaggle/kaggle.json\n",
        "\n",
        "\n",
        "!kaggle datasets download -d plameneduardo/sarscov2-ctscan-dataset\n",
        "!unzip sarscov2-ctscan-dataset.zip -d sarscov2-ctscan-dataset\n",
        "!rm sarscov2-ctscan-dataset.zip"
      ],
      "metadata": {
        "id": "pgQ7TqchqNfH"
      },
      "execution_count": null,
      "outputs": []
    },
    {
      "cell_type": "markdown",
      "source": [
        "## Data preprocessing"
      ],
      "metadata": {
        "id": "Vum7ezCRsDYJ"
      }
    },
    {
      "cell_type": "code",
      "source": [
        "# check image size \n",
        "folder_images = \"./sarscov2-ctscan-dataset\"\n",
        "\n",
        "size_images = dict()\n",
        "for dirpath, _, filenames in os.walk(folder_images):\n",
        "    for path_image in filenames:\n",
        "        image = os.path.abspath(os.path.join(dirpath, path_image))\n",
        "        with Image.open(image) as img:\n",
        "            width, heigth = img.size\n",
        "            size_images[path_image] = {'width': width, 'heigth': heigth}\n",
        "\n",
        "sizes = []\n",
        "for keys,values in size_images.items():\n",
        "  sizes.append((values.get('width'),values.get('heigth')))\n",
        "\n",
        "\n",
        "max_width = max(sizes,key=lambda item:item[0])[0]\n",
        "min_width = min(sizes,key=lambda item:item[0])[0]\n",
        "max_heigth = (max(sizes,key=lambda item:item[1])[1])\n",
        "min_heigth = (min(sizes,key=lambda item:item[1])[1])\n",
        "print ('max width images: '+str(max_width)+'\\n'+'min width images: '+str(min_width))\n",
        "print ('max heigth images: '+str(max_heigth)+'\\n'+'min heigth images: '+str(min_heigth))"
      ],
      "metadata": {
        "colab": {
          "base_uri": "https://localhost:8080/"
        },
        "id": "g0W8S4GVrnhY",
        "outputId": "97fc4b06-7c95-4832-bd24-4fc1601cb990"
      },
      "execution_count": null,
      "outputs": [
        {
          "output_type": "stream",
          "name": "stdout",
          "text": [
            "max width images: 534\n",
            "min width images: 182\n",
            "max heigth images: 416\n",
            "min heigth images: 119\n"
          ]
        }
      ]
    },
    {
      "cell_type": "code",
      "source": [
        "# check visually image size\n",
        "x = [i[0] for i in sizes]\n",
        "y = [i[1] for i in sizes]\n",
        "plt.scatter(x, y, s=2)\n",
        "plt.xlabel('width', fontsize='large')\n",
        "plt.ylabel('height', fontsize = 'large')\n",
        "plt.show()"
      ],
      "metadata": {
        "colab": {
          "base_uri": "https://localhost:8080/",
          "height": 282
        },
        "id": "55MQgm69tMOx",
        "outputId": "9646c9f3-cae6-4872-a720-140c05e84cd7"
      },
      "execution_count": null,
      "outputs": [
        {
          "output_type": "display_data",
          "data": {
            "text/plain": [
              "<Figure size 432x288 with 1 Axes>"
            ],
            "image/png": "[encoded data removed]"
          },
          "metadata": {
            "needs_background": "light"
          }
        }
      ]
    },
    {
      "cell_type": "code",
      "source": [
        "# is the dataset balanced? \n",
        "covid = len(os.listdir('/content/sarscov2-ctscan-dataset/COVID'))\n",
        "no_covid = len(os.listdir('/content/sarscov2-ctscan-dataset/non-COVID'))\n",
        "\n",
        "plt.bar([0,1], [covid, no_covid], color=['red', 'blue'])\n",
        "plt.xticks(np.arange(0, 2, 1))\n",
        "plt.show()"
      ],
      "metadata": {
        "colab": {
          "base_uri": "https://localhost:8080/",
          "height": 265
        },
        "id": "0pVdWTPWu2qg",
        "outputId": "01ed0177-5854-4689-b96c-7bbf8c0adf9f"
      },
      "execution_count": null,
      "outputs": [
        {
          "output_type": "display_data",
          "data": {
            "text/plain": [
              "<Figure size 432x288 with 1 Axes>"
            ],
            "image/png": "[encoded data removed]"
          },
          "metadata": {
            "needs_background": "light"
          }
        }
      ]
    },
    {
      "cell_type": "markdown",
      "source": [
        "## Classification"
      ],
      "metadata": {
        "id": "v91Mqy8Qv3n-"
      }
    },
    {
      "cell_type": "code",
      "source": [
        "# setup global parameter\n",
        "TRAINING_DIR = '/content/splitted_img/train'\n",
        "VALIDATION_DIR = '/content/splitted_img/val'\n",
        "TEST_DIR = '/content/splitted_img/test'\n",
        "IMG_SIZE = 256\n",
        "BATCH_SIZE = 64\n",
        "SEED = 123\n",
        "AUTOTUNE = tf.data.AUTOTUNE\n",
        "RANDOM_SEED = 10"
      ],
      "metadata": {
        "id": "8t4QXTqTvyKR"
      },
      "execution_count": null,
      "outputs": []
    },
    {
      "cell_type": "code",
      "source": [
        "# folder splitting\n",
        "splitfolders.ratio(\"./sarscov2-ctscan-dataset\", output=\"splitted_img\", seed=RANDOM_SEED, ratio=(.8, .1, .1), group_prefix=None)"
      ],
      "metadata": {
        "colab": {
          "base_uri": "https://localhost:8080/"
        },
        "id": "brUG6E9y0Jyq",
        "outputId": "ef19383d-5b6b-4a21-8724-2988d1e2d376"
      },
      "execution_count": null,
      "outputs": [
        {
          "output_type": "stream",
          "name": "stderr",
          "text": [
            "Copying files: 2481 files [00:01, 2373.67 files/s]\n"
          ]
        }
      ]
    },
    {
      "cell_type": "code",
      "source": [
        "# creating train, validation and test sets applying image resizing\n",
        "train_dataset = tf.keras.preprocessing.image_dataset_from_directory(TRAINING_DIR,\n",
        "                                                                      labels='inferred', label_mode='binary', color_mode = 'grayscale', \n",
        "                                                                      image_size=(IMG_SIZE, IMG_SIZE), batch_size=BATCH_SIZE,\n",
        "                                                                      seed = SEED,\n",
        "                                                                      smart_resize = True)\n",
        "\n",
        "val_dataset = tf.keras.preprocessing.image_dataset_from_directory(VALIDATION_DIR,\n",
        "                                                                      labels='inferred', label_mode='binary', color_mode = 'grayscale',\n",
        "                                                                      image_size=(IMG_SIZE, IMG_SIZE), batch_size=BATCH_SIZE,\n",
        "                                                                      seed = SEED,\n",
        "                                                                      smart_resize = True)\n",
        "\n",
        "test_dataset = tf.keras.preprocessing.image_dataset_from_directory(TEST_DIR,\n",
        "                                                                      labels='inferred', label_mode='binary', color_mode = 'grayscale',\n",
        "                                                                      image_size=(IMG_SIZE, IMG_SIZE), batch_size=BATCH_SIZE,\n",
        "                                                                      seed = SEED,\n",
        "                                                                      smart_resize = True)\n"
      ],
      "metadata": {
        "colab": {
          "base_uri": "https://localhost:8080/"
        },
        "id": "PqQy51cC0OZU",
        "outputId": "5f7042cc-4faf-49c3-fd28-9382d549c202"
      },
      "execution_count": null,
      "outputs": [
        {
          "output_type": "stream",
          "name": "stdout",
          "text": [
            "Found 1984 files belonging to 2 classes.\n",
            "Found 247 files belonging to 2 classes.\n",
            "Found 250 files belonging to 2 classes.\n"
          ]
        }
      ]
    },
    {
      "cell_type": "code",
      "source": [
        "# pixel normalization \n",
        "def normalize_data(ds, shuffle = False):\n",
        "    normalization_layer = tf.keras.layers.experimental.preprocessing.Rescaling(1./255)\n",
        "    normalized_ds = ds.map(lambda x, y: (normalization_layer(x), y))\n",
        "    normalized_ds = normalized_ds.cache()\n",
        "\n",
        "    if shuffle:\n",
        "      normalized_ds = normalized_ds.shuffle(2000, seed=RANDOM_SEED)\n",
        "    \n",
        "    normalized_ds = normalized_ds.prefetch(buffer_size=AUTOTUNE)\n",
        "    return normalized_ds\n",
        "  \n",
        "train_ds = normalize_data(train_dataset, True)\n",
        "val_ds = normalize_data(val_dataset, False)\n",
        "test_ds = normalize_data(test_dataset)"
      ],
      "metadata": {
        "id": "HadYj9nj6EnU"
      },
      "execution_count": null,
      "outputs": []
    },
    {
      "cell_type": "markdown",
      "source": [
        "### Classification using a Convolutional Neural Network (CNN)"
      ],
      "metadata": {
        "id": "LruYJfMb7iTb"
      }
    },
    {
      "cell_type": "code",
      "source": [
        "def cnn_class():\n",
        "  model_cnn = tf.keras.models.Sequential([\n",
        "                                          tf.keras.layers.Conv2D(16, (3,3), activation='relu', input_shape=(IMG_SIZE,IMG_SIZE,1), padding='same'),\n",
        "                                          tf.keras.layers.MaxPooling2D(2,2),\n",
        "                                          tf.keras.layers.Conv2D(32, (3,3), activation='relu', padding='same', strides=2),\n",
        "                                          tf.keras.layers.MaxPooling2D(2,2),\n",
        "                                          tf.keras.layers.Flatten(),\n",
        "                                          tf.keras.layers.Dense(128, activation='relu'),\n",
        "                                          tf.keras.layers.Dense(1, activation='sigmoid')\n",
        "  ]\n",
        "  )\n",
        "  model_cnn.compile(optimizer='adam', loss='binary_crossentropy', metrics=['accuracy'])\n",
        "  return model_cnn"
      ],
      "metadata": {
        "id": "-7Hxd9Jb6XJb"
      },
      "execution_count": null,
      "outputs": []
    },
    {
      "cell_type": "code",
      "source": [
        "cnn = cnn_class()\n",
        "cnn.summary()"
      ],
      "metadata": {
        "colab": {
          "base_uri": "https://localhost:8080/"
        },
        "id": "bf5vOM1O7ui1",
        "outputId": "478a61d9-29ce-4a25-abd2-74874cd1f07b"
      },
      "execution_count": null,
      "outputs": [
        {
          "output_type": "stream",
          "name": "stdout",
          "text": [
            "Model: \"sequential\"\n",
            "_________________________________________________________________\n",
            " Layer (type)                Output Shape              Param #   \n",
            "=================================================================\n",
            " conv2d (Conv2D)             (None, 256, 256, 16)      160       \n",
            "                                                                 \n",
            " max_pooling2d (MaxPooling2D  (None, 128, 128, 16)     0         \n",
            " )                                                               \n",
            "                                                                 \n",
            " conv2d_1 (Conv2D)           (None, 64, 64, 32)        4640      \n",
            "                                                                 \n",
            " max_pooling2d_1 (MaxPooling  (None, 32, 32, 32)       0         \n",
            " 2D)                                                             \n",
            "                                                                 \n",
            " flatten (Flatten)           (None, 32768)             0         \n",
            "                                                                 \n",
            " dense (Dense)               (None, 128)               4194432   \n",
            "                                                                 \n",
            " dense_1 (Dense)             (None, 1)                 129       \n",
            "                                                                 \n",
            "=================================================================\n",
            "Total params: 4,199,361\n",
            "Trainable params: 4,199,361\n",
            "Non-trainable params: 0\n",
            "_________________________________________________________________\n"
          ]
        }
      ]
    },
    {
      "cell_type": "code",
      "source": [
        "#@markdown Code to display dynamically loss and accuracy curve\n",
        "\n",
        "# Matplotlib config\n",
        "plt.ioff()\n",
        "plt.rc('image', cmap='gray_r')\n",
        "plt.rc('grid', linewidth=1)\n",
        "plt.rc('xtick', top=False, bottom=False, labelsize='large')\n",
        "plt.rc('ytick', left=False, right=False, labelsize='large')\n",
        "plt.rc('axes', facecolor='F8F8F8', titlesize=\"large\", edgecolor='white')\n",
        "plt.rc('text', color='a8151a')\n",
        "plt.rc('figure', facecolor='F0F0F0', figsize=(14,9))\n",
        "\n",
        "def plot_learning_rate(lr_func, epochs):\n",
        "  xx = np.arange(epochs+1, dtype=np.float)\n",
        "  y = [lr_decay(x) for x in xx]\n",
        "  fig, ax = plt.subplots(figsize=(9, 6))\n",
        "  ax.set_xlabel('epochs')\n",
        "  ax.set_title('Learning rate\\ndecays from {:0.3g} to {:0.3g}'.format(y[0], y[-2]))\n",
        "  ax.minorticks_on()\n",
        "  ax.grid(True, which='major', axis='both', linestyle='-', linewidth=1)\n",
        "  ax.grid(True, which='minor', axis='both', linestyle=':', linewidth=0.5)\n",
        "  ax.step(xx,y, linewidth=3, where='post')\n",
        "  display.display(fig)\n",
        "\n",
        "class PlotTraining(tf.keras.callbacks.Callback):\n",
        "  def __init__(self, sample_rate=1, zoom=1):\n",
        "    self.sample_rate = sample_rate\n",
        "    self.step = 0\n",
        "    self.zoom = zoom\n",
        "    self.steps_per_epoch = len(train_dataset)\n",
        "\n",
        "  def on_train_begin(self, logs={}):\n",
        "    self.batch_history = {}\n",
        "    self.batch_step = []\n",
        "    self.epoch_history = {}\n",
        "    self.epoch_step = []\n",
        "    self.fig, self.axes = plt.subplots(1, 2, figsize=(16, 7))\n",
        "    plt.ioff()\n",
        "\n",
        "  def on_batch_end(self, batch, logs={}):\n",
        "    if (batch % self.sample_rate) == 0:\n",
        "      self.batch_step.append(self.step)\n",
        "      for k,v in logs.items():\n",
        "        # do not log \"batch\" and \"size\" metrics that do not change\n",
        "        # do not log training accuracy \"acc\"\n",
        "        if k=='batch' or k=='size':# or k=='acc':\n",
        "          continue\n",
        "        self.batch_history.setdefault(k, []).append(v)\n",
        "    self.step += 1\n",
        "\n",
        "  def on_epoch_end(self, epoch, logs={}):\n",
        "    plt.close(self.fig)\n",
        "    self.axes[0].cla()\n",
        "    self.axes[1].cla()\n",
        "      \n",
        "    self.axes[0].set_ylim(0, 1.2/self.zoom)\n",
        "    self.axes[1].set_ylim(1-1/self.zoom/2, 1+0.1/self.zoom/2)\n",
        "    \n",
        "    self.epoch_step.append(self.step)\n",
        "    for k,v in logs.items():\n",
        "      # only log validation metrics\n",
        "      if not k.startswith('val_'):\n",
        "        continue\n",
        "      self.epoch_history.setdefault(k, []).append(v)\n",
        "\n",
        "    display.clear_output(wait=True)\n",
        "    \n",
        "    for k,v in self.batch_history.items():\n",
        "      self.axes[0 if k.endswith('loss') else 1].plot(np.array(self.batch_step) / self.steps_per_epoch, v, label=k)\n",
        "      \n",
        "    for k,v in self.epoch_history.items():\n",
        "      self.axes[0 if k.endswith('loss') else 1].plot(np.array(self.epoch_step) / self.steps_per_epoch, v, label=k, linewidth=3)\n",
        "      \n",
        "    self.axes[0].legend(prop={'size':14})\n",
        "    self.axes[1].legend(prop={'size':14})\n",
        "    self.axes[0].set_xlabel('epochs',fontsize=14)\n",
        "    self.axes[1].set_xlabel('epochs',fontsize=14)\n",
        "    self.axes[0].minorticks_on()\n",
        "    self.axes[0].grid(True, which='major', axis='both', linestyle='-', linewidth=1)\n",
        "    self.axes[0].grid(True, which='minor', axis='both', linestyle=':', linewidth=0.5)\n",
        "    self.axes[1].minorticks_on()\n",
        "    self.axes[1].grid(True, which='major', axis='both', linestyle='-', linewidth=1)\n",
        "    self.axes[1].grid(True, which='minor', axis='both', linestyle=':', linewidth=0.5)\n",
        "    display.display(self.fig)"
      ],
      "metadata": {
        "cellView": "form",
        "id": "w8IHFmHe705J"
      },
      "execution_count": null,
      "outputs": []
    },
    {
      "cell_type": "code",
      "source": [
        "# setup model training\n",
        "EPOCHS = 10\n",
        "\n",
        "start_cnn_time = time.time()\n",
        "plot_training = PlotTraining(sample_rate=10, zoom=1)\n",
        "\n",
        "history = cnn.fit(\n",
        "  train_ds,\n",
        "  validation_data=val_ds,\n",
        "  epochs=EPOCHS, verbose = 1,\n",
        "  callbacks=[plot_training]\n",
        ")\n",
        "\n",
        "end_cnn_time = time.time() - start_cnn_time"
      ],
      "metadata": {
        "colab": {
          "base_uri": "https://localhost:8080/",
          "height": 492
        },
        "id": "hOsCIbbs79_w",
        "outputId": "22539692-4a19-4c30-8af3-4f7ff75c7c80"
      },
      "execution_count": null,
      "outputs": [
        {
          "output_type": "display_data",
          "data": {
            "text/plain": [
              "<Figure size 1152x504 with 2 Axes>"
            ],
            "image/png": "[encoded data removed]"
          },
          "metadata": {}
        },
        {
          "output_type": "stream",
          "name": "stdout",
          "text": [
            "\b\b\b\b\b\b\b\b\b\b\b\b\b\b\b\b\b\b\b\b\b\b\b\b\b\b\b\b\b\b\b\b\b\b\b\b\b\b\b\b\b\b\b\b\b\b\b\b\b\b\b\b\b\b\b\b\b\b\b\b\b\b\b\b\b\b\b\b\b\b\b\b\b\b\b\b\b\b\b\b\b\b\r31/31 [==============================] - 2s 77ms/step - loss: 0.1217 - accuracy: 0.9567 - val_loss: 0.5462 - val_accuracy: 0.7935\n"
          ]
        }
      ]
    },
    {
      "cell_type": "code",
      "source": [
        "print(\"Results of classification with a CNN\\n\")\n",
        "print(\"Time used for training: \"+   str(datetime.timedelta(seconds = end_cnn_time)))\n",
        "print(\"Accuracy: \"+str(round(history.history['val_accuracy'][-1],2)))\n",
        "print(\"Loss: \"+str(round(history.history['val_loss'][-1],2)))"
      ],
      "metadata": {
        "colab": {
          "base_uri": "https://localhost:8080/"
        },
        "id": "AghK9fClEMAG",
        "outputId": "dbcbdc17-02f2-437c-a5a7-7f61b13a6e9f"
      },
      "execution_count": null,
      "outputs": [
        {
          "output_type": "stream",
          "name": "stdout",
          "text": [
            "Results of classification with a CNN\n",
            "\n",
            "Time used for training: 0:00:51.511646\n",
            "Accuracy: 0.79\n",
            "Loss: 0.55\n"
          ]
        }
      ]
    },
    {
      "cell_type": "markdown",
      "source": [
        "## Clustering - unsupervised learning\n",
        "\n",
        "The idea is to use a cluster algorithm to divide in two clusters: images with covid sympthoms and images without covid sympthoms. In this case we use only images without label."
      ],
      "metadata": {
        "id": "NEjgr80A9hwD"
      }
    },
    {
      "cell_type": "code",
      "source": [
        "# moving all images into a single folder since we don't need labels for clustering\n",
        "source_dir = '/content/sarscov2-ctscan-dataset/COVID'\n",
        "target_dir = '/content/sarscov2-ctscan-dataset-clustering'\n",
        "\n",
        "os.mkdir(target_dir)\n",
        "\n",
        "file_names = os.listdir(source_dir)\n",
        "    \n",
        "for file_name in file_names:\n",
        "    shutil.move(os.path.join(source_dir, file_name), target_dir)\n",
        "\n",
        "source_dir = '/content/sarscov2-ctscan-dataset/non-COVID'\n",
        "    \n",
        "file_names = os.listdir(source_dir)\n",
        "    \n",
        "for file_name in file_names:\n",
        "    shutil.move(os.path.join(source_dir, file_name), target_dir)"
      ],
      "metadata": {
        "id": "cTgxkeRzAG4E"
      },
      "execution_count": null,
      "outputs": []
    },
    {
      "cell_type": "markdown",
      "source": [
        "### Clustering with PCA (KMeans)"
      ],
      "metadata": {
        "id": "Tn6FLWyACFCX"
      }
    },
    {
      "cell_type": "code",
      "source": [
        "path_images = '/content/sarscov2-ctscan-dataset-clustering'\n",
        "\n",
        "start_pca_k = time.time()\n",
        "\n",
        "cl = Clustimage(method='pca',\n",
        "                embedding='tsne',\n",
        "                grayscale=False,  \n",
        "                dim=(128,128),\n",
        "                params_pca={'n_components':0.95})\n",
        "\n",
        "# Load data\n",
        "X = cl.import_data(path_images,flatten=True)\n",
        "\n",
        "X = X['pathnames']\n",
        "\n",
        "#print(X)\n",
        "\n",
        "# Preprocessing, feature extraction, embedding and cluster evaluation\n",
        "results = cl.fit_transform(X,\n",
        "                           cluster='kmeans',\n",
        "                           evaluate='silhouette',\n",
        "                           metric='euclidean',\n",
        "                           linkage='ward',\n",
        "                           min_clust=2,\n",
        "                           max_clust=3,\n",
        "                           cluster_space='high')\n",
        "results.keys()\n",
        "\n",
        "end_pca_k = time.time() - start_pca_k"
      ],
      "metadata": {
        "id": "k-aipAJUF9vM",
        "colab": {
          "base_uri": "https://localhost:8080/"
        },
        "outputId": "1f107b64-85bb-4b07-c74a-8f368a64eed1"
      },
      "execution_count": null,
      "outputs": [
        {
          "output_type": "stream",
          "name": "stderr",
          "text": [
            "100%|██████████| 2481/2481 [00:13<00:00, 178.65it/s]\n",
            "100%|██████████| 2481/2481 [00:14<00:00, 176.27it/s]\n"
          ]
        },
        {
          "output_type": "stream",
          "name": "stdout",
          "text": [
            "[pca] >Column labels are auto-completed.\n",
            "[pca] >The PCA reduction is performed to capture [95.0%] explained variance using the [49152] columns of the input data.\n",
            "[pca] >Fit using PCA.\n",
            "[pca] >Compute loadings and PCs.\n",
            "[pca] >Compute explained variance.\n",
            "[pca] >Number of components is [578] that covers the [95.00%] explained variance.\n",
            "[pca] >The PCA reduction is performed on the [49152] columns of the input dataframe.\n",
            "[pca] >Fit using PCA.\n",
            "[pca] >Compute loadings and PCs.\n",
            "\n",
            "[clusteval] >Fit using kmeans with metric: euclidean, and linkage: ward\n",
            "[clusteval] >Evaluate using silhouette.\n"
          ]
        },
        {
          "output_type": "stream",
          "name": "stderr",
          "text": [
            "100%|██████████| 1/1 [00:00<00:00,  1.14it/s]\n"
          ]
        },
        {
          "output_type": "stream",
          "name": "stdout",
          "text": [
            "[clusteval] >Optimal number clusters detected: [2].\n",
            "[clusteval] >Fin.\n"
          ]
        }
      ]
    },
    {
      "cell_type": "code",
      "source": [
        "# checking results\n",
        "def check_results(clusters):\n",
        "  if(len(clusters)!=2):\n",
        "    print(\"num clusters detected not correct.\")\n",
        "    print(\"num clusters detected: \"+str(len(clusters)))\n",
        "\n",
        "  else:\n",
        "    for i,cluster in enumerate(clusters.values()):\n",
        "      count_non=0\n",
        "      count = 0\n",
        "      for elem in cluster: \n",
        "        if 'Non' in elem: \n",
        "          count_non += 1\n",
        "        else:\n",
        "          count +=1\n",
        "\n",
        "      print(\"\\n% img without covid in cluster \" + str(i) + \" : \" + str(round(count_non/len(cluster)*100,2)))\n",
        "      print(\"% img with covid in cluster \" + str(i) + \" : \" + str(round(count/len(cluster)*100,2)))\n",
        "\n",
        "\n",
        "  return count_non, count"
      ],
      "metadata": {
        "id": "0HorV_CAZnb3"
      },
      "execution_count": null,
      "outputs": []
    },
    {
      "cell_type": "code",
      "source": [
        "results"
      ],
      "metadata": {
        "colab": {
          "base_uri": "https://localhost:8080/"
        },
        "id": "SmWg9cMOi-7f",
        "outputId": "efb36383-9fe9-4f93-c9d8-352982d70307"
      },
      "execution_count": null,
      "outputs": [
        {
          "output_type": "execute_result",
          "data": {
            "text/plain": [
              "{'img': array([[187, 187, 187, ..., 224, 224, 224],\n",
              "        [186, 186, 186, ..., 166, 166, 166],\n",
              "        [188, 188, 188, ..., 208, 208, 208],\n",
              "        ...,\n",
              "        [  7,   7,   7, ...,  57,  57,  57],\n",
              "        [195, 195, 195, ...,   2,   2,   2],\n",
              "        [ 29,  29,  29, ...,  54,  54,  54]], dtype=uint8),\n",
              " 'feat': array([[ 6.86247570e+03, -8.65526194e+03,  4.15803174e+03, ...,\n",
              "          5.56303406e+01, -1.47722250e+02, -7.41264054e+01],\n",
              "        [-9.41737564e+03,  1.41994074e+03, -3.01105547e+03, ...,\n",
              "         -9.01172075e+01,  2.63936640e+02, -5.63448115e+01],\n",
              "        [ 2.40113667e+03, -8.96507663e+03,  2.30678010e+03, ...,\n",
              "         -1.31132183e+02, -1.95570450e+02, -1.85811022e+00],\n",
              "        ...,\n",
              "        [-1.56805173e+03,  6.78076964e+03,  5.71446137e+03, ...,\n",
              "          1.61038188e+02,  1.81044918e+02, -7.67137351e+01],\n",
              "        [ 4.62914311e+03, -1.46009851e+03, -2.16961621e+03, ...,\n",
              "          7.92903445e+00,  1.51748316e+02, -3.98394973e+01],\n",
              "        [ 1.90182857e+04, -1.25035213e+03, -6.03532659e+03, ...,\n",
              "         -1.42002323e+00, -3.38249137e+01, -1.62922415e+02]]),\n",
              " 'xycoord': array([[ 49.88838 , -25.31516 ],\n",
              "        [-36.59527 , -13.241827],\n",
              "        [ 39.72353 , -29.67551 ],\n",
              "        ...,\n",
              "        [-14.126852,  53.36846 ],\n",
              "        [ 17.479967,  12.815251],\n",
              "        [ 44.589966,  55.950306]], dtype=float32),\n",
              " 'pathnames': array(['/content/sarscov2-ctscan-dataset-clustering/Non-Covid (520).png',\n",
              "        '/content/sarscov2-ctscan-dataset-clustering/Covid (370).png',\n",
              "        '/content/sarscov2-ctscan-dataset-clustering/Non-Covid (1153).png',\n",
              "        ...,\n",
              "        '/content/sarscov2-ctscan-dataset-clustering/Non-Covid (463).png',\n",
              "        '/content/sarscov2-ctscan-dataset-clustering/Non-Covid (535).png',\n",
              "        '/content/sarscov2-ctscan-dataset-clustering/Covid (969).png'],\n",
              "       dtype='<U64'),\n",
              " 'labels': array([ 0, -1,  0, ..., -1,  0,  0], dtype=int32),\n",
              " 'url': None,\n",
              " 'filenames': array(['Non-Covid (520).png', 'Covid (370).png', 'Non-Covid (1153).png',\n",
              "        ..., 'Non-Covid (463).png', 'Non-Covid (535).png',\n",
              "        'Covid (969).png'], dtype='<U20')}"
            ]
          },
          "metadata": {},
          "execution_count": 18
        }
      ]
    },
    {
      "cell_type": "code",
      "source": [
        "groups_pca = {}\n",
        "for file, cluster in zip(results['pathnames'],results['labels']):\n",
        "    if cluster not in groups_pca.keys():\n",
        "        groups_pca[cluster] = []\n",
        "        groups_pca[cluster].append(file)\n",
        "    else:\n",
        "        groups_pca[cluster].append(file)"
      ],
      "metadata": {
        "id": "6tHXP-fMCLfK"
      },
      "execution_count": null,
      "outputs": []
    },
    {
      "cell_type": "code",
      "source": [
        "for i,value in enumerate(results['pathnames']):\n",
        "  results['pathnames'][i] = os.path.basename(results['pathnames'][i])\n",
        "results['pathnames']"
      ],
      "metadata": {
        "colab": {
          "base_uri": "https://localhost:8080/"
        },
        "id": "pvfywfnbMKg-",
        "outputId": "f999c92f-94b2-4263-934b-9e1dc133aca7"
      },
      "execution_count": null,
      "outputs": [
        {
          "output_type": "execute_result",
          "data": {
            "text/plain": [
              "array(['Non-Covid (520).png', 'Covid (370).png', 'Non-Covid (1153).png',\n",
              "       ..., 'Non-Covid (463).png', 'Non-Covid (535).png',\n",
              "       'Covid (969).png'], dtype='<U64')"
            ]
          },
          "metadata": {},
          "execution_count": 20
        }
      ]
    },
    {
      "cell_type": "code",
      "source": [
        "# creating dataframe to show the results\n",
        "df_pca = pd.DataFrame(results['pathnames'], columns=['nome'])\n",
        "df_pca[\"cluster pca\"] = results['labels']\n",
        "df_pca.head(10)"
      ],
      "metadata": {
        "colab": {
          "base_uri": "https://localhost:8080/",
          "height": 363
        },
        "id": "xFQ5LMasic7g",
        "outputId": "c75243ef-e457-4afd-c61f-07ab3c9c08ed"
      },
      "execution_count": null,
      "outputs": [
        {
          "output_type": "execute_result",
          "data": {
            "text/plain": [
              "                   nome  cluster pca\n",
              "0   Non-Covid (520).png            0\n",
              "1       Covid (370).png           -1\n",
              "2  Non-Covid (1153).png            0\n",
              "3       Covid (845).png           -1\n",
              "4       Covid (858).png           -1\n",
              "5       Covid (156).png           -1\n",
              "6       Covid (729).png           -1\n",
              "7   Non-Covid (665).png           -1\n",
              "8   Non-Covid (696).png           -1\n",
              "9   Non-Covid (646).png           -1"
            ],
            "text/html": [
              "\n",
              "  <div id=\"df-1a941f86-aab5-418b-9c9d-cb2c5d6e1f95\">\n",
              "    <div class=\"colab-df-container\">\n",
              "      <div>\n",
              "<style scoped>\n",
              "    .dataframe tbody tr th:only-of-type {\n",
              "        vertical-align: middle;\n",
              "    }\n",
              "\n",
              "    .dataframe tbody tr th {\n",
              "        vertical-align: top;\n",
              "    }\n",
              "\n",
              "    .dataframe thead th {\n",
              "        text-align: right;\n",
              "    }\n",
              "</style>\n",
              "<table border=\"1\" class=\"dataframe\">\n",
              "  <thead>\n",
              "    <tr style=\"text-align: right;\">\n",
              "      <th></th>\n",
              "      <th>nome</th>\n",
              "      <th>cluster pca</th>\n",
              "    </tr>\n",
              "  </thead>\n",
              "  <tbody>\n",
              "    <tr>\n",
              "      <th>0</th>\n",
              "      <td>Non-Covid (520).png</td>\n",
              "      <td>0</td>\n",
              "    </tr>\n",
              "    <tr>\n",
              "      <th>1</th>\n",
              "      <td>Covid (370).png</td>\n",
              "      <td>-1</td>\n",
              "    </tr>\n",
              "    <tr>\n",
              "      <th>2</th>\n",
              "      <td>Non-Covid (1153).png</td>\n",
              "      <td>0</td>\n",
              "    </tr>\n",
              "    <tr>\n",
              "      <th>3</th>\n",
              "      <td>Covid (845).png</td>\n",
              "      <td>-1</td>\n",
              "    </tr>\n",
              "    <tr>\n",
              "      <th>4</th>\n",
              "      <td>Covid (858).png</td>\n",
              "      <td>-1</td>\n",
              "    </tr>\n",
              "    <tr>\n",
              "      <th>5</th>\n",
              "      <td>Covid (156).png</td>\n",
              "      <td>-1</td>\n",
              "    </tr>\n",
              "    <tr>\n",
              "      <th>6</th>\n",
              "      <td>Covid (729).png</td>\n",
              "      <td>-1</td>\n",
              "    </tr>\n",
              "    <tr>\n",
              "      <th>7</th>\n",
              "      <td>Non-Covid (665).png</td>\n",
              "      <td>-1</td>\n",
              "    </tr>\n",
              "    <tr>\n",
              "      <th>8</th>\n",
              "      <td>Non-Covid (696).png</td>\n",
              "      <td>-1</td>\n",
              "    </tr>\n",
              "    <tr>\n",
              "      <th>9</th>\n",
              "      <td>Non-Covid (646).png</td>\n",
              "      <td>-1</td>\n",
              "    </tr>\n",
              "  </tbody>\n",
              "</table>\n",
              "</div>\n",
              "      <button class=\"colab-df-convert\" onclick=\"convertToInteractive('df-1a941f86-aab5-418b-9c9d-cb2c5d6e1f95')\"\n",
              "              title=\"Convert this dataframe to an interactive table.\"\n",
              "              style=\"display:none;\">\n",
              "        \n",
              "  <svg xmlns=\"http://www.w3.org/2000/svg\" height=\"24px\"viewBox=\"0 0 24 24\"\n",
              "       width=\"24px\">\n",
              "    <path d=\"M0 0h24v24H0V0z\" fill=\"none\"/>\n",
              "    <path d=\"M18.56 5.44l.94 2.06.94-2.06 2.06-.94-2.06-.94-.94-2.06-.94 2.06-2.06.94zm-11 1L8.5 8.5l.94-2.06 2.06-.94-2.06-.94L8.5 2.5l-.94 2.06-2.06.94zm10 10l.94 2.06.94-2.06 2.06-.94-2.06-.94-.94-2.06-.94 2.06-2.06.94z\"/><path d=\"M17.41 7.96l-1.37-1.37c-.4-.4-.92-.59-1.43-.59-.52 0-1.04.2-1.43.59L10.3 9.45l-7.72 7.72c-.78.78-.78 2.05 0 2.83L4 21.41c.39.39.9.59 1.41.59.51 0 1.02-.2 1.41-.59l7.78-7.78 2.81-2.81c.8-.78.8-2.07 0-2.86zM5.41 20L4 18.59l7.72-7.72 1.47 1.35L5.41 20z\"/>\n",
              "  </svg>\n",
              "      </button>\n",
              "      \n",
              "  <style>\n",
              "    .colab-df-container {\n",
              "      display:flex;\n",
              "      flex-wrap:wrap;\n",
              "      gap: 12px;\n",
              "    }\n",
              "\n",
              "    .colab-df-convert {\n",
              "      background-color: #E8F0FE;\n",
              "      border: none;\n",
              "      border-radius: 50%;\n",
              "      cursor: pointer;\n",
              "      display: none;\n",
              "      fill: #1967D2;\n",
              "      height: 32px;\n",
              "      padding: 0 0 0 0;\n",
              "      width: 32px;\n",
              "    }\n",
              "\n",
              "    .colab-df-convert:hover {\n",
              "      background-color: #E2EBFA;\n",
              "      box-shadow: 0px 1px 2px rgba(60, 64, 67, 0.3), 0px 1px 3px 1px rgba(60, 64, 67, 0.15);\n",
              "      fill: #174EA6;\n",
              "    }\n",
              "\n",
              "    [theme=dark] .colab-df-convert {\n",
              "      background-color: #3B4455;\n",
              "      fill: #D2E3FC;\n",
              "    }\n",
              "\n",
              "    [theme=dark] .colab-df-convert:hover {\n",
              "      background-color: #434B5C;\n",
              "      box-shadow: 0px 1px 3px 1px rgba(0, 0, 0, 0.15);\n",
              "      filter: drop-shadow(0px 1px 2px rgba(0, 0, 0, 0.3));\n",
              "      fill: #FFFFFF;\n",
              "    }\n",
              "  </style>\n",
              "\n",
              "      <script>\n",
              "        const buttonEl =\n",
              "          document.querySelector('#df-1a941f86-aab5-418b-9c9d-cb2c5d6e1f95 button.colab-df-convert');\n",
              "        buttonEl.style.display =\n",
              "          google.colab.kernel.accessAllowed ? 'block' : 'none';\n",
              "\n",
              "        async function convertToInteractive(key) {\n",
              "          const element = document.querySelector('#df-1a941f86-aab5-418b-9c9d-cb2c5d6e1f95');\n",
              "          const dataTable =\n",
              "            await google.colab.kernel.invokeFunction('convertToInteractive',\n",
              "                                                     [key], {});\n",
              "          if (!dataTable) return;\n",
              "\n",
              "          const docLinkHtml = 'Like what you see? Visit the ' +\n",
              "            '<a target=\"_blank\" href=https://colab.research.google.com/notebooks/data_table.ipynb>data table notebook</a>'\n",
              "            + ' to learn more about interactive tables.';\n",
              "          element.innerHTML = '';\n",
              "          dataTable['output_type'] = 'display_data';\n",
              "          await google.colab.output.renderOutput(dataTable, element);\n",
              "          const docLink = document.createElement('div');\n",
              "          docLink.innerHTML = docLinkHtml;\n",
              "          element.appendChild(docLink);\n",
              "        }\n",
              "      </script>\n",
              "    </div>\n",
              "  </div>\n",
              "  "
            ]
          },
          "metadata": {},
          "execution_count": 21
        }
      ]
    },
    {
      "cell_type": "code",
      "source": [
        "df_pca.replace(-1, \n",
        "           1, \n",
        "           inplace=True)\n",
        "df_pca.head()"
      ],
      "metadata": {
        "colab": {
          "base_uri": "https://localhost:8080/",
          "height": 206
        },
        "id": "ZFGKmYsxkaYz",
        "outputId": "69fd3e61-025d-4eef-b4d2-c97c51f4630d"
      },
      "execution_count": null,
      "outputs": [
        {
          "output_type": "execute_result",
          "data": {
            "text/plain": [
              "                   nome  cluster pca\n",
              "0   Non-Covid (520).png            0\n",
              "1       Covid (370).png            1\n",
              "2  Non-Covid (1153).png            0\n",
              "3       Covid (845).png            1\n",
              "4       Covid (858).png            1"
            ],
            "text/html": [
              "\n",
              "  <div id=\"df-753c958e-ccb8-4f34-9ec0-f7446ba8732c\">\n",
              "    <div class=\"colab-df-container\">\n",
              "      <div>\n",
              "<style scoped>\n",
              "    .dataframe tbody tr th:only-of-type {\n",
              "        vertical-align: middle;\n",
              "    }\n",
              "\n",
              "    .dataframe tbody tr th {\n",
              "        vertical-align: top;\n",
              "    }\n",
              "\n",
              "    .dataframe thead th {\n",
              "        text-align: right;\n",
              "    }\n",
              "</style>\n",
              "<table border=\"1\" class=\"dataframe\">\n",
              "  <thead>\n",
              "    <tr style=\"text-align: right;\">\n",
              "      <th></th>\n",
              "      <th>nome</th>\n",
              "      <th>cluster pca</th>\n",
              "    </tr>\n",
              "  </thead>\n",
              "  <tbody>\n",
              "    <tr>\n",
              "      <th>0</th>\n",
              "      <td>Non-Covid (520).png</td>\n",
              "      <td>0</td>\n",
              "    </tr>\n",
              "    <tr>\n",
              "      <th>1</th>\n",
              "      <td>Covid (370).png</td>\n",
              "      <td>1</td>\n",
              "    </tr>\n",
              "    <tr>\n",
              "      <th>2</th>\n",
              "      <td>Non-Covid (1153).png</td>\n",
              "      <td>0</td>\n",
              "    </tr>\n",
              "    <tr>\n",
              "      <th>3</th>\n",
              "      <td>Covid (845).png</td>\n",
              "      <td>1</td>\n",
              "    </tr>\n",
              "    <tr>\n",
              "      <th>4</th>\n",
              "      <td>Covid (858).png</td>\n",
              "      <td>1</td>\n",
              "    </tr>\n",
              "  </tbody>\n",
              "</table>\n",
              "</div>\n",
              "      <button class=\"colab-df-convert\" onclick=\"convertToInteractive('df-753c958e-ccb8-4f34-9ec0-f7446ba8732c')\"\n",
              "              title=\"Convert this dataframe to an interactive table.\"\n",
              "              style=\"display:none;\">\n",
              "        \n",
              "  <svg xmlns=\"http://www.w3.org/2000/svg\" height=\"24px\"viewBox=\"0 0 24 24\"\n",
              "       width=\"24px\">\n",
              "    <path d=\"M0 0h24v24H0V0z\" fill=\"none\"/>\n",
              "    <path d=\"M18.56 5.44l.94 2.06.94-2.06 2.06-.94-2.06-.94-.94-2.06-.94 2.06-2.06.94zm-11 1L8.5 8.5l.94-2.06 2.06-.94-2.06-.94L8.5 2.5l-.94 2.06-2.06.94zm10 10l.94 2.06.94-2.06 2.06-.94-2.06-.94-.94-2.06-.94 2.06-2.06.94z\"/><path d=\"M17.41 7.96l-1.37-1.37c-.4-.4-.92-.59-1.43-.59-.52 0-1.04.2-1.43.59L10.3 9.45l-7.72 7.72c-.78.78-.78 2.05 0 2.83L4 21.41c.39.39.9.59 1.41.59.51 0 1.02-.2 1.41-.59l7.78-7.78 2.81-2.81c.8-.78.8-2.07 0-2.86zM5.41 20L4 18.59l7.72-7.72 1.47 1.35L5.41 20z\"/>\n",
              "  </svg>\n",
              "      </button>\n",
              "      \n",
              "  <style>\n",
              "    .colab-df-container {\n",
              "      display:flex;\n",
              "      flex-wrap:wrap;\n",
              "      gap: 12px;\n",
              "    }\n",
              "\n",
              "    .colab-df-convert {\n",
              "      background-color: #E8F0FE;\n",
              "      border: none;\n",
              "      border-radius: 50%;\n",
              "      cursor: pointer;\n",
              "      display: none;\n",
              "      fill: #1967D2;\n",
              "      height: 32px;\n",
              "      padding: 0 0 0 0;\n",
              "      width: 32px;\n",
              "    }\n",
              "\n",
              "    .colab-df-convert:hover {\n",
              "      background-color: #E2EBFA;\n",
              "      box-shadow: 0px 1px 2px rgba(60, 64, 67, 0.3), 0px 1px 3px 1px rgba(60, 64, 67, 0.15);\n",
              "      fill: #174EA6;\n",
              "    }\n",
              "\n",
              "    [theme=dark] .colab-df-convert {\n",
              "      background-color: #3B4455;\n",
              "      fill: #D2E3FC;\n",
              "    }\n",
              "\n",
              "    [theme=dark] .colab-df-convert:hover {\n",
              "      background-color: #434B5C;\n",
              "      box-shadow: 0px 1px 3px 1px rgba(0, 0, 0, 0.15);\n",
              "      filter: drop-shadow(0px 1px 2px rgba(0, 0, 0, 0.3));\n",
              "      fill: #FFFFFF;\n",
              "    }\n",
              "  </style>\n",
              "\n",
              "      <script>\n",
              "        const buttonEl =\n",
              "          document.querySelector('#df-753c958e-ccb8-4f34-9ec0-f7446ba8732c button.colab-df-convert');\n",
              "        buttonEl.style.display =\n",
              "          google.colab.kernel.accessAllowed ? 'block' : 'none';\n",
              "\n",
              "        async function convertToInteractive(key) {\n",
              "          const element = document.querySelector('#df-753c958e-ccb8-4f34-9ec0-f7446ba8732c');\n",
              "          const dataTable =\n",
              "            await google.colab.kernel.invokeFunction('convertToInteractive',\n",
              "                                                     [key], {});\n",
              "          if (!dataTable) return;\n",
              "\n",
              "          const docLinkHtml = 'Like what you see? Visit the ' +\n",
              "            '<a target=\"_blank\" href=https://colab.research.google.com/notebooks/data_table.ipynb>data table notebook</a>'\n",
              "            + ' to learn more about interactive tables.';\n",
              "          element.innerHTML = '';\n",
              "          dataTable['output_type'] = 'display_data';\n",
              "          await google.colab.output.renderOutput(dataTable, element);\n",
              "          const docLink = document.createElement('div');\n",
              "          docLink.innerHTML = docLinkHtml;\n",
              "          element.appendChild(docLink);\n",
              "        }\n",
              "      </script>\n",
              "    </div>\n",
              "  </div>\n",
              "  "
            ]
          },
          "metadata": {},
          "execution_count": 22
        }
      ]
    },
    {
      "cell_type": "code",
      "source": [
        "print(\"Results of clustering with PCA & Kmeans \\n\")\n",
        "print(\"Time used for training: \"+   str(datetime.timedelta(seconds = end_pca_k)))\n",
        "\n",
        "count_non, count = check_results(groups_pca)"
      ],
      "metadata": {
        "colab": {
          "base_uri": "https://localhost:8080/"
        },
        "id": "kIC9igrmLQgX",
        "outputId": "9d7161a6-037e-416e-bcaf-8637171afb15"
      },
      "execution_count": null,
      "outputs": [
        {
          "output_type": "stream",
          "name": "stdout",
          "text": [
            "Results of clustering with PCA & Kmeans \n",
            "\n",
            "Time used for training: 0:03:44.233703\n",
            "\n",
            "% img without covid in cluster 0 : 31.57\n",
            "% img with covid in cluster 0 : 68.43\n",
            "\n",
            "% img without covid in cluster 1 : 58.31\n",
            "% img with covid in cluster 1 : 41.69\n"
          ]
        }
      ]
    },
    {
      "cell_type": "code",
      "source": [
        "non_covid = 0\n",
        "\n",
        "if (count < count_non):\n",
        "  non_covid = 1\n"
      ],
      "metadata": {
        "id": "VTjm-tX-rWca"
      },
      "execution_count": null,
      "outputs": []
    },
    {
      "cell_type": "code",
      "source": [
        "non_covid"
      ],
      "metadata": {
        "colab": {
          "base_uri": "https://localhost:8080/"
        },
        "id": "Oyb8B6A71LV-",
        "outputId": "8a3cac60-d151-4fef-c82f-b2e69bc903a8"
      },
      "execution_count": null,
      "outputs": [
        {
          "output_type": "execute_result",
          "data": {
            "text/plain": [
              "1"
            ]
          },
          "metadata": {},
          "execution_count": 25
        }
      ]
    },
    {
      "cell_type": "code",
      "source": [
        "df_pca[\"True Label\"] = np.zeros(len(df_pca), int)\n",
        "df_pca"
      ],
      "metadata": {
        "colab": {
          "base_uri": "https://localhost:8080/",
          "height": 424
        },
        "id": "5PYfY8clq-i5",
        "outputId": "1d5b63a7-9146-47c7-a4df-16efc6485ca8"
      },
      "execution_count": null,
      "outputs": [
        {
          "output_type": "execute_result",
          "data": {
            "text/plain": [
              "                      nome  cluster pca  True Label\n",
              "0      Non-Covid (520).png            0           0\n",
              "1          Covid (370).png            1           0\n",
              "2     Non-Covid (1153).png            0           0\n",
              "3          Covid (845).png            1           0\n",
              "4          Covid (858).png            1           0\n",
              "...                    ...          ...         ...\n",
              "2476   Non-Covid (527).png            1           0\n",
              "2477      Covid (1020).png            0           0\n",
              "2478   Non-Covid (463).png            1           0\n",
              "2479   Non-Covid (535).png            0           0\n",
              "2480       Covid (969).png            0           0\n",
              "\n",
              "[2481 rows x 3 columns]"
            ],
            "text/html": [
              "\n",
              "  <div id=\"df-d3f20c05-7daf-4e95-90c9-a257ac2a1dc1\">\n",
              "    <div class=\"colab-df-container\">\n",
              "      <div>\n",
              "<style scoped>\n",
              "    .dataframe tbody tr th:only-of-type {\n",
              "        vertical-align: middle;\n",
              "    }\n",
              "\n",
              "    .dataframe tbody tr th {\n",
              "        vertical-align: top;\n",
              "    }\n",
              "\n",
              "    .dataframe thead th {\n",
              "        text-align: right;\n",
              "    }\n",
              "</style>\n",
              "<table border=\"1\" class=\"dataframe\">\n",
              "  <thead>\n",
              "    <tr style=\"text-align: right;\">\n",
              "      <th></th>\n",
              "      <th>nome</th>\n",
              "      <th>cluster pca</th>\n",
              "      <th>True Label</th>\n",
              "    </tr>\n",
              "  </thead>\n",
              "  <tbody>\n",
              "    <tr>\n",
              "      <th>0</th>\n",
              "      <td>Non-Covid (520).png</td>\n",
              "      <td>0</td>\n",
              "      <td>0</td>\n",
              "    </tr>\n",
              "    <tr>\n",
              "      <th>1</th>\n",
              "      <td>Covid (370).png</td>\n",
              "      <td>1</td>\n",
              "      <td>0</td>\n",
              "    </tr>\n",
              "    <tr>\n",
              "      <th>2</th>\n",
              "      <td>Non-Covid (1153).png</td>\n",
              "      <td>0</td>\n",
              "      <td>0</td>\n",
              "    </tr>\n",
              "    <tr>\n",
              "      <th>3</th>\n",
              "      <td>Covid (845).png</td>\n",
              "      <td>1</td>\n",
              "      <td>0</td>\n",
              "    </tr>\n",
              "    <tr>\n",
              "      <th>4</th>\n",
              "      <td>Covid (858).png</td>\n",
              "      <td>1</td>\n",
              "      <td>0</td>\n",
              "    </tr>\n",
              "    <tr>\n",
              "      <th>...</th>\n",
              "      <td>...</td>\n",
              "      <td>...</td>\n",
              "      <td>...</td>\n",
              "    </tr>\n",
              "    <tr>\n",
              "      <th>2476</th>\n",
              "      <td>Non-Covid (527).png</td>\n",
              "      <td>1</td>\n",
              "      <td>0</td>\n",
              "    </tr>\n",
              "    <tr>\n",
              "      <th>2477</th>\n",
              "      <td>Covid (1020).png</td>\n",
              "      <td>0</td>\n",
              "      <td>0</td>\n",
              "    </tr>\n",
              "    <tr>\n",
              "      <th>2478</th>\n",
              "      <td>Non-Covid (463).png</td>\n",
              "      <td>1</td>\n",
              "      <td>0</td>\n",
              "    </tr>\n",
              "    <tr>\n",
              "      <th>2479</th>\n",
              "      <td>Non-Covid (535).png</td>\n",
              "      <td>0</td>\n",
              "      <td>0</td>\n",
              "    </tr>\n",
              "    <tr>\n",
              "      <th>2480</th>\n",
              "      <td>Covid (969).png</td>\n",
              "      <td>0</td>\n",
              "      <td>0</td>\n",
              "    </tr>\n",
              "  </tbody>\n",
              "</table>\n",
              "<p>2481 rows × 3 columns</p>\n",
              "</div>\n",
              "      <button class=\"colab-df-convert\" onclick=\"convertToInteractive('df-d3f20c05-7daf-4e95-90c9-a257ac2a1dc1')\"\n",
              "              title=\"Convert this dataframe to an interactive table.\"\n",
              "              style=\"display:none;\">\n",
              "        \n",
              "  <svg xmlns=\"http://www.w3.org/2000/svg\" height=\"24px\"viewBox=\"0 0 24 24\"\n",
              "       width=\"24px\">\n",
              "    <path d=\"M0 0h24v24H0V0z\" fill=\"none\"/>\n",
              "    <path d=\"M18.56 5.44l.94 2.06.94-2.06 2.06-.94-2.06-.94-.94-2.06-.94 2.06-2.06.94zm-11 1L8.5 8.5l.94-2.06 2.06-.94-2.06-.94L8.5 2.5l-.94 2.06-2.06.94zm10 10l.94 2.06.94-2.06 2.06-.94-2.06-.94-.94-2.06-.94 2.06-2.06.94z\"/><path d=\"M17.41 7.96l-1.37-1.37c-.4-.4-.92-.59-1.43-.59-.52 0-1.04.2-1.43.59L10.3 9.45l-7.72 7.72c-.78.78-.78 2.05 0 2.83L4 21.41c.39.39.9.59 1.41.59.51 0 1.02-.2 1.41-.59l7.78-7.78 2.81-2.81c.8-.78.8-2.07 0-2.86zM5.41 20L4 18.59l7.72-7.72 1.47 1.35L5.41 20z\"/>\n",
              "  </svg>\n",
              "      </button>\n",
              "      \n",
              "  <style>\n",
              "    .colab-df-container {\n",
              "      display:flex;\n",
              "      flex-wrap:wrap;\n",
              "      gap: 12px;\n",
              "    }\n",
              "\n",
              "    .colab-df-convert {\n",
              "      background-color: #E8F0FE;\n",
              "      border: none;\n",
              "      border-radius: 50%;\n",
              "      cursor: pointer;\n",
              "      display: none;\n",
              "      fill: #1967D2;\n",
              "      height: 32px;\n",
              "      padding: 0 0 0 0;\n",
              "      width: 32px;\n",
              "    }\n",
              "\n",
              "    .colab-df-convert:hover {\n",
              "      background-color: #E2EBFA;\n",
              "      box-shadow: 0px 1px 2px rgba(60, 64, 67, 0.3), 0px 1px 3px 1px rgba(60, 64, 67, 0.15);\n",
              "      fill: #174EA6;\n",
              "    }\n",
              "\n",
              "    [theme=dark] .colab-df-convert {\n",
              "      background-color: #3B4455;\n",
              "      fill: #D2E3FC;\n",
              "    }\n",
              "\n",
              "    [theme=dark] .colab-df-convert:hover {\n",
              "      background-color: #434B5C;\n",
              "      box-shadow: 0px 1px 3px 1px rgba(0, 0, 0, 0.15);\n",
              "      filter: drop-shadow(0px 1px 2px rgba(0, 0, 0, 0.3));\n",
              "      fill: #FFFFFF;\n",
              "    }\n",
              "  </style>\n",
              "\n",
              "      <script>\n",
              "        const buttonEl =\n",
              "          document.querySelector('#df-d3f20c05-7daf-4e95-90c9-a257ac2a1dc1 button.colab-df-convert');\n",
              "        buttonEl.style.display =\n",
              "          google.colab.kernel.accessAllowed ? 'block' : 'none';\n",
              "\n",
              "        async function convertToInteractive(key) {\n",
              "          const element = document.querySelector('#df-d3f20c05-7daf-4e95-90c9-a257ac2a1dc1');\n",
              "          const dataTable =\n",
              "            await google.colab.kernel.invokeFunction('convertToInteractive',\n",
              "                                                     [key], {});\n",
              "          if (!dataTable) return;\n",
              "\n",
              "          const docLinkHtml = 'Like what you see? Visit the ' +\n",
              "            '<a target=\"_blank\" href=https://colab.research.google.com/notebooks/data_table.ipynb>data table notebook</a>'\n",
              "            + ' to learn more about interactive tables.';\n",
              "          element.innerHTML = '';\n",
              "          dataTable['output_type'] = 'display_data';\n",
              "          await google.colab.output.renderOutput(dataTable, element);\n",
              "          const docLink = document.createElement('div');\n",
              "          docLink.innerHTML = docLinkHtml;\n",
              "          element.appendChild(docLink);\n",
              "        }\n",
              "      </script>\n",
              "    </div>\n",
              "  </div>\n",
              "  "
            ]
          },
          "metadata": {},
          "execution_count": 26
        }
      ]
    },
    {
      "cell_type": "code",
      "source": [
        "for i in df_pca.index:\n",
        "  if 'Non' in df_pca.nome.loc[i]:\n",
        "    df_pca[\"True Label\"].loc[i] = non_covid\n",
        "  else:\n",
        "    df_pca[\"True Label\"].loc[i] = 1 - non_covid\n",
        "df_pca"
      ],
      "metadata": {
        "colab": {
          "base_uri": "https://localhost:8080/",
          "height": 424
        },
        "id": "4iQ999jwrPdo",
        "outputId": "4f7fa3b2-c97c-41cf-a8ce-96a67cd6674d"
      },
      "execution_count": null,
      "outputs": [
        {
          "output_type": "execute_result",
          "data": {
            "text/plain": [
              "                      nome  cluster pca  True Label\n",
              "0      Non-Covid (520).png            0           1\n",
              "1          Covid (370).png            1           0\n",
              "2     Non-Covid (1153).png            0           1\n",
              "3          Covid (845).png            1           0\n",
              "4          Covid (858).png            1           0\n",
              "...                    ...          ...         ...\n",
              "2476   Non-Covid (527).png            1           1\n",
              "2477      Covid (1020).png            0           0\n",
              "2478   Non-Covid (463).png            1           1\n",
              "2479   Non-Covid (535).png            0           1\n",
              "2480       Covid (969).png            0           0\n",
              "\n",
              "[2481 rows x 3 columns]"
            ],
            "text/html": [
              "\n",
              "  <div id=\"df-465498c2-db90-4f51-9c35-71f1b71300de\">\n",
              "    <div class=\"colab-df-container\">\n",
              "      <div>\n",
              "<style scoped>\n",
              "    .dataframe tbody tr th:only-of-type {\n",
              "        vertical-align: middle;\n",
              "    }\n",
              "\n",
              "    .dataframe tbody tr th {\n",
              "        vertical-align: top;\n",
              "    }\n",
              "\n",
              "    .dataframe thead th {\n",
              "        text-align: right;\n",
              "    }\n",
              "</style>\n",
              "<table border=\"1\" class=\"dataframe\">\n",
              "  <thead>\n",
              "    <tr style=\"text-align: right;\">\n",
              "      <th></th>\n",
              "      <th>nome</th>\n",
              "      <th>cluster pca</th>\n",
              "      <th>True Label</th>\n",
              "    </tr>\n",
              "  </thead>\n",
              "  <tbody>\n",
              "    <tr>\n",
              "      <th>0</th>\n",
              "      <td>Non-Covid (520).png</td>\n",
              "      <td>0</td>\n",
              "      <td>1</td>\n",
              "    </tr>\n",
              "    <tr>\n",
              "      <th>1</th>\n",
              "      <td>Covid (370).png</td>\n",
              "      <td>1</td>\n",
              "      <td>0</td>\n",
              "    </tr>\n",
              "    <tr>\n",
              "      <th>2</th>\n",
              "      <td>Non-Covid (1153).png</td>\n",
              "      <td>0</td>\n",
              "      <td>1</td>\n",
              "    </tr>\n",
              "    <tr>\n",
              "      <th>3</th>\n",
              "      <td>Covid (845).png</td>\n",
              "      <td>1</td>\n",
              "      <td>0</td>\n",
              "    </tr>\n",
              "    <tr>\n",
              "      <th>4</th>\n",
              "      <td>Covid (858).png</td>\n",
              "      <td>1</td>\n",
              "      <td>0</td>\n",
              "    </tr>\n",
              "    <tr>\n",
              "      <th>...</th>\n",
              "      <td>...</td>\n",
              "      <td>...</td>\n",
              "      <td>...</td>\n",
              "    </tr>\n",
              "    <tr>\n",
              "      <th>2476</th>\n",
              "      <td>Non-Covid (527).png</td>\n",
              "      <td>1</td>\n",
              "      <td>1</td>\n",
              "    </tr>\n",
              "    <tr>\n",
              "      <th>2477</th>\n",
              "      <td>Covid (1020).png</td>\n",
              "      <td>0</td>\n",
              "      <td>0</td>\n",
              "    </tr>\n",
              "    <tr>\n",
              "      <th>2478</th>\n",
              "      <td>Non-Covid (463).png</td>\n",
              "      <td>1</td>\n",
              "      <td>1</td>\n",
              "    </tr>\n",
              "    <tr>\n",
              "      <th>2479</th>\n",
              "      <td>Non-Covid (535).png</td>\n",
              "      <td>0</td>\n",
              "      <td>1</td>\n",
              "    </tr>\n",
              "    <tr>\n",
              "      <th>2480</th>\n",
              "      <td>Covid (969).png</td>\n",
              "      <td>0</td>\n",
              "      <td>0</td>\n",
              "    </tr>\n",
              "  </tbody>\n",
              "</table>\n",
              "<p>2481 rows × 3 columns</p>\n",
              "</div>\n",
              "      <button class=\"colab-df-convert\" onclick=\"convertToInteractive('df-465498c2-db90-4f51-9c35-71f1b71300de')\"\n",
              "              title=\"Convert this dataframe to an interactive table.\"\n",
              "              style=\"display:none;\">\n",
              "        \n",
              "  <svg xmlns=\"http://www.w3.org/2000/svg\" height=\"24px\"viewBox=\"0 0 24 24\"\n",
              "       width=\"24px\">\n",
              "    <path d=\"M0 0h24v24H0V0z\" fill=\"none\"/>\n",
              "    <path d=\"M18.56 5.44l.94 2.06.94-2.06 2.06-.94-2.06-.94-.94-2.06-.94 2.06-2.06.94zm-11 1L8.5 8.5l.94-2.06 2.06-.94-2.06-.94L8.5 2.5l-.94 2.06-2.06.94zm10 10l.94 2.06.94-2.06 2.06-.94-2.06-.94-.94-2.06-.94 2.06-2.06.94z\"/><path d=\"M17.41 7.96l-1.37-1.37c-.4-.4-.92-.59-1.43-.59-.52 0-1.04.2-1.43.59L10.3 9.45l-7.72 7.72c-.78.78-.78 2.05 0 2.83L4 21.41c.39.39.9.59 1.41.59.51 0 1.02-.2 1.41-.59l7.78-7.78 2.81-2.81c.8-.78.8-2.07 0-2.86zM5.41 20L4 18.59l7.72-7.72 1.47 1.35L5.41 20z\"/>\n",
              "  </svg>\n",
              "      </button>\n",
              "      \n",
              "  <style>\n",
              "    .colab-df-container {\n",
              "      display:flex;\n",
              "      flex-wrap:wrap;\n",
              "      gap: 12px;\n",
              "    }\n",
              "\n",
              "    .colab-df-convert {\n",
              "      background-color: #E8F0FE;\n",
              "      border: none;\n",
              "      border-radius: 50%;\n",
              "      cursor: pointer;\n",
              "      display: none;\n",
              "      fill: #1967D2;\n",
              "      height: 32px;\n",
              "      padding: 0 0 0 0;\n",
              "      width: 32px;\n",
              "    }\n",
              "\n",
              "    .colab-df-convert:hover {\n",
              "      background-color: #E2EBFA;\n",
              "      box-shadow: 0px 1px 2px rgba(60, 64, 67, 0.3), 0px 1px 3px 1px rgba(60, 64, 67, 0.15);\n",
              "      fill: #174EA6;\n",
              "    }\n",
              "\n",
              "    [theme=dark] .colab-df-convert {\n",
              "      background-color: #3B4455;\n",
              "      fill: #D2E3FC;\n",
              "    }\n",
              "\n",
              "    [theme=dark] .colab-df-convert:hover {\n",
              "      background-color: #434B5C;\n",
              "      box-shadow: 0px 1px 3px 1px rgba(0, 0, 0, 0.15);\n",
              "      filter: drop-shadow(0px 1px 2px rgba(0, 0, 0, 0.3));\n",
              "      fill: #FFFFFF;\n",
              "    }\n",
              "  </style>\n",
              "\n",
              "      <script>\n",
              "        const buttonEl =\n",
              "          document.querySelector('#df-465498c2-db90-4f51-9c35-71f1b71300de button.colab-df-convert');\n",
              "        buttonEl.style.display =\n",
              "          google.colab.kernel.accessAllowed ? 'block' : 'none';\n",
              "\n",
              "        async function convertToInteractive(key) {\n",
              "          const element = document.querySelector('#df-465498c2-db90-4f51-9c35-71f1b71300de');\n",
              "          const dataTable =\n",
              "            await google.colab.kernel.invokeFunction('convertToInteractive',\n",
              "                                                     [key], {});\n",
              "          if (!dataTable) return;\n",
              "\n",
              "          const docLinkHtml = 'Like what you see? Visit the ' +\n",
              "            '<a target=\"_blank\" href=https://colab.research.google.com/notebooks/data_table.ipynb>data table notebook</a>'\n",
              "            + ' to learn more about interactive tables.';\n",
              "          element.innerHTML = '';\n",
              "          dataTable['output_type'] = 'display_data';\n",
              "          await google.colab.output.renderOutput(dataTable, element);\n",
              "          const docLink = document.createElement('div');\n",
              "          docLink.innerHTML = docLinkHtml;\n",
              "          element.appendChild(docLink);\n",
              "        }\n",
              "      </script>\n",
              "    </div>\n",
              "  </div>\n",
              "  "
            ]
          },
          "metadata": {},
          "execution_count": 27
        }
      ]
    },
    {
      "cell_type": "code",
      "source": [
        "len(df_pca[(df_pca['True Label'] == 1) & (df_pca['cluster pca'] == 1)])"
      ],
      "metadata": {
        "colab": {
          "base_uri": "https://localhost:8080/"
        },
        "id": "TKn7gf-k1y0O",
        "outputId": "6db83168-908d-45ac-c479-eb8db2e60171"
      },
      "execution_count": null,
      "outputs": [
        {
          "output_type": "execute_result",
          "data": {
            "text/plain": [
              "972"
            ]
          },
          "metadata": {},
          "execution_count": 28
        }
      ]
    },
    {
      "cell_type": "code",
      "source": [
        "cm_pca = confusion_matrix(df_pca['True Label'], df_pca['cluster pca'])\n",
        "disease_types = ['covid', 'non covid']\n",
        "plt.figure(figsize=(8, 8))\n",
        "ax = sns.heatmap(cm_pca, cmap=plt.cm.Blues, annot=True, square=True, fmt='g', xticklabels=disease_types, yticklabels=disease_types)\n",
        "ax.set_ylabel('Actual', fontsize=40)\n",
        "ax.set_xlabel('Predicted', fontsize=40)"
      ],
      "metadata": {
        "colab": {
          "base_uri": "https://localhost:8080/",
          "height": 509
        },
        "id": "ILwylMlNtAx9",
        "outputId": "1aa855fc-3f0d-401c-fbbf-5ac63ef3f7ae"
      },
      "execution_count": null,
      "outputs": [
        {
          "output_type": "execute_result",
          "data": {
            "text/plain": [
              "Text(0.5, 86.87999999999997, 'Predicted')"
            ]
          },
          "metadata": {},
          "execution_count": 29
        },
        {
          "output_type": "display_data",
          "data": {
            "text/plain": [
              "<Figure size 576x576 with 2 Axes>"
            ],
            "image/png": "[encoded data removed]"
          },
          "metadata": {}
        }
      ]
    },
    {
      "cell_type": "markdown",
      "source": [
        "### Clustering using VGG for feature extraction and KMeans"
      ],
      "metadata": {
        "id": "U9YmZubyHc3Z"
      }
    },
    {
      "cell_type": "code",
      "source": [
        "path_images = '/content/sarscov2-ctscan-dataset-clustering'\n",
        "\n",
        "# change the working directory to the path where the images are located\n",
        "os.chdir(path_images)\n",
        "\n",
        "# this list holds all the image filename\n",
        "img_filenames = []\n",
        "\n",
        "# creates a ScandirIterator aliased as files\n",
        "with os.scandir(path_images) as files:\n",
        "  # loops through each file in the directory\n",
        "    for file in files:\n",
        "        if file.name.endswith('.png'):\n",
        "          # adds only the image files to the img_filenames list\n",
        "            img_filenames.append(file.name)"
      ],
      "metadata": {
        "id": "Xgoi7QrHIDv5"
      },
      "execution_count": null,
      "outputs": []
    },
    {
      "cell_type": "code",
      "source": [
        "# model definition\n",
        "\n",
        "\n",
        "def extract_features_vgg(direc):\n",
        "    features = []\n",
        "    images_name = []\n",
        "    # load the image as a 224x224 array\n",
        "    model = VGG16()\n",
        "    # exclude classification layer\n",
        "    model = Model(inputs = model.inputs, outputs = model.layers[-2].output)\n",
        "    for i in direc:\n",
        "      img = tf.keras.utils.load_img(i, target_size=(224,224))\n",
        "      x = tf.keras.utils.img_to_array(img)\n",
        "      reshaped_img = x.reshape(1,224,224,3) \n",
        "      imgx = preprocess_input(reshaped_img)\n",
        "      feat = model.predict(imgx, use_multiprocessing=True)\n",
        "      features.append(feat)\n",
        "      images_name.append(i)\n",
        "    return features, images_name"
      ],
      "metadata": {
        "id": "WyPLQlo3C7b8"
      },
      "execution_count": null,
      "outputs": []
    },
    {
      "cell_type": "code",
      "source": [
        "\n",
        "start_time_vggkmeans = time.time()\n",
        "img_feat, img_name = extract_features_vgg(img_filenames)\n",
        "\n",
        "# flatten images in order to apply the clustering algorithm\n",
        "flattened_img = []\n",
        "for i in img_feat:\n",
        "  flattened_img.append(i.flatten())\n",
        "\n",
        "# cluster\n",
        "k = 2\n",
        "\n",
        "clusters_vgg = KMeans(k, random_state = 13)\n",
        "clusters_vgg.fit(flattened_img)\n",
        "final_time_vggmeans = time.time() - start_time_vggkmeans\n",
        "#print(\"--- %s seconds ---\" % (time.time() - start_time_vggkmeans))"
      ],
      "metadata": {
        "id": "yq_uYcvfH3bP"
      },
      "execution_count": null,
      "outputs": []
    },
    {
      "cell_type": "code",
      "source": [
        "# creating dataframe to show the results\n",
        "df_vgg = pd.DataFrame(img_name, columns=['nome'])\n",
        "df_vgg[\"cluster vgg\"] = clusters_vgg.labels_\n",
        "df_vgg.head(10)"
      ],
      "metadata": {
        "colab": {
          "base_uri": "https://localhost:8080/",
          "height": 363
        },
        "id": "HnfKP18BNBHd",
        "outputId": "61060002-8236-40e6-e6ca-623b8a4ef6e5"
      },
      "execution_count": null,
      "outputs": [
        {
          "output_type": "execute_result",
          "data": {
            "text/plain": [
              "                   nome  cluster vgg\n",
              "0   Non-Covid (520).png            0\n",
              "1       Covid (370).png            1\n",
              "2  Non-Covid (1153).png            0\n",
              "3       Covid (845).png            1\n",
              "4       Covid (858).png            1\n",
              "5       Covid (156).png            1\n",
              "6       Covid (729).png            1\n",
              "7   Non-Covid (665).png            1\n",
              "8   Non-Covid (696).png            1\n",
              "9   Non-Covid (646).png            0"
            ],
            "text/html": [
              "\n",
              "  <div id=\"df-71a2a3d7-33a6-4eeb-823b-a490c009cd56\">\n",
              "    <div class=\"colab-df-container\">\n",
              "      <div>\n",
              "<style scoped>\n",
              "    .dataframe tbody tr th:only-of-type {\n",
              "        vertical-align: middle;\n",
              "    }\n",
              "\n",
              "    .dataframe tbody tr th {\n",
              "        vertical-align: top;\n",
              "    }\n",
              "\n",
              "    .dataframe thead th {\n",
              "        text-align: right;\n",
              "    }\n",
              "</style>\n",
              "<table border=\"1\" class=\"dataframe\">\n",
              "  <thead>\n",
              "    <tr style=\"text-align: right;\">\n",
              "      <th></th>\n",
              "      <th>nome</th>\n",
              "      <th>cluster vgg</th>\n",
              "    </tr>\n",
              "  </thead>\n",
              "  <tbody>\n",
              "    <tr>\n",
              "      <th>0</th>\n",
              "      <td>Non-Covid (520).png</td>\n",
              "      <td>0</td>\n",
              "    </tr>\n",
              "    <tr>\n",
              "      <th>1</th>\n",
              "      <td>Covid (370).png</td>\n",
              "      <td>1</td>\n",
              "    </tr>\n",
              "    <tr>\n",
              "      <th>2</th>\n",
              "      <td>Non-Covid (1153).png</td>\n",
              "      <td>0</td>\n",
              "    </tr>\n",
              "    <tr>\n",
              "      <th>3</th>\n",
              "      <td>Covid (845).png</td>\n",
              "      <td>1</td>\n",
              "    </tr>\n",
              "    <tr>\n",
              "      <th>4</th>\n",
              "      <td>Covid (858).png</td>\n",
              "      <td>1</td>\n",
              "    </tr>\n",
              "    <tr>\n",
              "      <th>5</th>\n",
              "      <td>Covid (156).png</td>\n",
              "      <td>1</td>\n",
              "    </tr>\n",
              "    <tr>\n",
              "      <th>6</th>\n",
              "      <td>Covid (729).png</td>\n",
              "      <td>1</td>\n",
              "    </tr>\n",
              "    <tr>\n",
              "      <th>7</th>\n",
              "      <td>Non-Covid (665).png</td>\n",
              "      <td>1</td>\n",
              "    </tr>\n",
              "    <tr>\n",
              "      <th>8</th>\n",
              "      <td>Non-Covid (696).png</td>\n",
              "      <td>1</td>\n",
              "    </tr>\n",
              "    <tr>\n",
              "      <th>9</th>\n",
              "      <td>Non-Covid (646).png</td>\n",
              "      <td>0</td>\n",
              "    </tr>\n",
              "  </tbody>\n",
              "</table>\n",
              "</div>\n",
              "      <button class=\"colab-df-convert\" onclick=\"convertToInteractive('df-71a2a3d7-33a6-4eeb-823b-a490c009cd56')\"\n",
              "              title=\"Convert this dataframe to an interactive table.\"\n",
              "              style=\"display:none;\">\n",
              "        \n",
              "  <svg xmlns=\"http://www.w3.org/2000/svg\" height=\"24px\"viewBox=\"0 0 24 24\"\n",
              "       width=\"24px\">\n",
              "    <path d=\"M0 0h24v24H0V0z\" fill=\"none\"/>\n",
              "    <path d=\"M18.56 5.44l.94 2.06.94-2.06 2.06-.94-2.06-.94-.94-2.06-.94 2.06-2.06.94zm-11 1L8.5 8.5l.94-2.06 2.06-.94-2.06-.94L8.5 2.5l-.94 2.06-2.06.94zm10 10l.94 2.06.94-2.06 2.06-.94-2.06-.94-.94-2.06-.94 2.06-2.06.94z\"/><path d=\"M17.41 7.96l-1.37-1.37c-.4-.4-.92-.59-1.43-.59-.52 0-1.04.2-1.43.59L10.3 9.45l-7.72 7.72c-.78.78-.78 2.05 0 2.83L4 21.41c.39.39.9.59 1.41.59.51 0 1.02-.2 1.41-.59l7.78-7.78 2.81-2.81c.8-.78.8-2.07 0-2.86zM5.41 20L4 18.59l7.72-7.72 1.47 1.35L5.41 20z\"/>\n",
              "  </svg>\n",
              "      </button>\n",
              "      \n",
              "  <style>\n",
              "    .colab-df-container {\n",
              "      display:flex;\n",
              "      flex-wrap:wrap;\n",
              "      gap: 12px;\n",
              "    }\n",
              "\n",
              "    .colab-df-convert {\n",
              "      background-color: #E8F0FE;\n",
              "      border: none;\n",
              "      border-radius: 50%;\n",
              "      cursor: pointer;\n",
              "      display: none;\n",
              "      fill: #1967D2;\n",
              "      height: 32px;\n",
              "      padding: 0 0 0 0;\n",
              "      width: 32px;\n",
              "    }\n",
              "\n",
              "    .colab-df-convert:hover {\n",
              "      background-color: #E2EBFA;\n",
              "      box-shadow: 0px 1px 2px rgba(60, 64, 67, 0.3), 0px 1px 3px 1px rgba(60, 64, 67, 0.15);\n",
              "      fill: #174EA6;\n",
              "    }\n",
              "\n",
              "    [theme=dark] .colab-df-convert {\n",
              "      background-color: #3B4455;\n",
              "      fill: #D2E3FC;\n",
              "    }\n",
              "\n",
              "    [theme=dark] .colab-df-convert:hover {\n",
              "      background-color: #434B5C;\n",
              "      box-shadow: 0px 1px 3px 1px rgba(0, 0, 0, 0.15);\n",
              "      filter: drop-shadow(0px 1px 2px rgba(0, 0, 0, 0.3));\n",
              "      fill: #FFFFFF;\n",
              "    }\n",
              "  </style>\n",
              "\n",
              "      <script>\n",
              "        const buttonEl =\n",
              "          document.querySelector('#df-71a2a3d7-33a6-4eeb-823b-a490c009cd56 button.colab-df-convert');\n",
              "        buttonEl.style.display =\n",
              "          google.colab.kernel.accessAllowed ? 'block' : 'none';\n",
              "\n",
              "        async function convertToInteractive(key) {\n",
              "          const element = document.querySelector('#df-71a2a3d7-33a6-4eeb-823b-a490c009cd56');\n",
              "          const dataTable =\n",
              "            await google.colab.kernel.invokeFunction('convertToInteractive',\n",
              "                                                     [key], {});\n",
              "          if (!dataTable) return;\n",
              "\n",
              "          const docLinkHtml = 'Like what you see? Visit the ' +\n",
              "            '<a target=\"_blank\" href=https://colab.research.google.com/notebooks/data_table.ipynb>data table notebook</a>'\n",
              "            + ' to learn more about interactive tables.';\n",
              "          element.innerHTML = '';\n",
              "          dataTable['output_type'] = 'display_data';\n",
              "          await google.colab.output.renderOutput(dataTable, element);\n",
              "          const docLink = document.createElement('div');\n",
              "          docLink.innerHTML = docLinkHtml;\n",
              "          element.appendChild(docLink);\n",
              "        }\n",
              "      </script>\n",
              "    </div>\n",
              "  </div>\n",
              "  "
            ]
          },
          "metadata": {},
          "execution_count": 35
        }
      ]
    },
    {
      "cell_type": "code",
      "source": [
        "# checking results\n",
        "count_nocovid_zero, count_nocovid_uno, count_covid_zero, count_covid_uno= 0,0,0,0\n",
        "len_zero, len_uno = 0,0\n",
        "\n",
        "for index, row in df_vgg.iterrows():\n",
        "\n",
        "    if 'Non' in row['nome'] :\n",
        "      \n",
        "      if row['cluster vgg'] == 0:\n",
        "        count_nocovid_zero += 1\n",
        "        len_zero +=1\n",
        "\n",
        "      if row['cluster vgg'] == 1:\n",
        "        count_nocovid_uno += 1\n",
        "        len_uno +=1\n",
        "\n",
        "    else:\n",
        "\n",
        "      if row['cluster vgg'] == 0:\n",
        "        count_covid_zero += 1\n",
        "        len_zero +=1\n",
        "\n",
        "      if row['cluster vgg'] == 1:\n",
        "        count_covid_uno += 1\n",
        "        len_uno +=1"
      ],
      "metadata": {
        "id": "a7lMRqf-NJFL"
      },
      "execution_count": null,
      "outputs": []
    },
    {
      "cell_type": "code",
      "source": [
        "print(\"Results of clustering with VGG & Kmeans \\n\")\n",
        "print(\"Time used for training: \"+   str(datetime.timedelta(seconds = final_time_vggmeans)))\n",
        "\n",
        "print(\"\\n% images without covid in cluster 0: \"+str(round(count_nocovid_zero/len_zero*100,2)))\n",
        "print(\"% images with covid in cluster 0: \"+str(round(count_covid_zero/len_zero*100,2)))\n",
        "\n",
        "print(\"\\n% images without covid in cluster 1: \"+str(round(count_nocovid_uno/len_uno*100,2)))\n",
        "print(\"% images with covid in cluster 1: \"+str(round(count_covid_uno/len_uno*100,2)))"
      ],
      "metadata": {
        "colab": {
          "base_uri": "https://localhost:8080/"
        },
        "id": "oaclZSg_MbIc",
        "outputId": "79ce6231-d869-4990-9ffc-ce10ab49f8e0"
      },
      "execution_count": null,
      "outputs": [
        {
          "output_type": "stream",
          "name": "stdout",
          "text": [
            "Results of clustering with VGG & Kmeans \n",
            "\n",
            "Time used for training: 0:02:47.041015\n",
            "\n",
            "% images without covid in cluster 0: 40.66\n",
            "% images with covid in cluster 0: 59.34\n",
            "\n",
            "% images without covid in cluster 1: 53.0\n",
            "% images with covid in cluster 1: 47.0\n"
          ]
        }
      ]
    },
    {
      "cell_type": "code",
      "source": [
        "non_covid = 0\n",
        "\n",
        "if (count_covid_uno < count_nocovid_uno):\n",
        "  non_covid = 1\n"
      ],
      "metadata": {
        "id": "6nTO66akbVoc"
      },
      "execution_count": null,
      "outputs": []
    },
    {
      "cell_type": "code",
      "source": [
        "df_vgg[\"True Label\"] = np.zeros(len(df_vgg), int)\n",
        "df_vgg"
      ],
      "metadata": {
        "colab": {
          "base_uri": "https://localhost:8080/",
          "height": 424
        },
        "id": "y9bJz31VdfwH",
        "outputId": "4b86a368-6f66-4d44-b7f0-4c8f12c2414e"
      },
      "execution_count": null,
      "outputs": [
        {
          "output_type": "execute_result",
          "data": {
            "text/plain": [
              "                      nome  cluster vgg  True Label\n",
              "0      Non-Covid (520).png            0           0\n",
              "1          Covid (370).png            1           0\n",
              "2     Non-Covid (1153).png            0           0\n",
              "3          Covid (845).png            1           0\n",
              "4          Covid (858).png            1           0\n",
              "...                    ...          ...         ...\n",
              "2476   Non-Covid (527).png            0           0\n",
              "2477      Covid (1020).png            1           0\n",
              "2478   Non-Covid (463).png            1           0\n",
              "2479   Non-Covid (535).png            1           0\n",
              "2480       Covid (969).png            0           0\n",
              "\n",
              "[2481 rows x 3 columns]"
            ],
            "text/html": [
              "\n",
              "  <div id=\"df-e7329c57-96bc-4a81-8ab2-b8237f2327a0\">\n",
              "    <div class=\"colab-df-container\">\n",
              "      <div>\n",
              "<style scoped>\n",
              "    .dataframe tbody tr th:only-of-type {\n",
              "        vertical-align: middle;\n",
              "    }\n",
              "\n",
              "    .dataframe tbody tr th {\n",
              "        vertical-align: top;\n",
              "    }\n",
              "\n",
              "    .dataframe thead th {\n",
              "        text-align: right;\n",
              "    }\n",
              "</style>\n",
              "<table border=\"1\" class=\"dataframe\">\n",
              "  <thead>\n",
              "    <tr style=\"text-align: right;\">\n",
              "      <th></th>\n",
              "      <th>nome</th>\n",
              "      <th>cluster vgg</th>\n",
              "      <th>True Label</th>\n",
              "    </tr>\n",
              "  </thead>\n",
              "  <tbody>\n",
              "    <tr>\n",
              "      <th>0</th>\n",
              "      <td>Non-Covid (520).png</td>\n",
              "      <td>0</td>\n",
              "      <td>0</td>\n",
              "    </tr>\n",
              "    <tr>\n",
              "      <th>1</th>\n",
              "      <td>Covid (370).png</td>\n",
              "      <td>1</td>\n",
              "      <td>0</td>\n",
              "    </tr>\n",
              "    <tr>\n",
              "      <th>2</th>\n",
              "      <td>Non-Covid (1153).png</td>\n",
              "      <td>0</td>\n",
              "      <td>0</td>\n",
              "    </tr>\n",
              "    <tr>\n",
              "      <th>3</th>\n",
              "      <td>Covid (845).png</td>\n",
              "      <td>1</td>\n",
              "      <td>0</td>\n",
              "    </tr>\n",
              "    <tr>\n",
              "      <th>4</th>\n",
              "      <td>Covid (858).png</td>\n",
              "      <td>1</td>\n",
              "      <td>0</td>\n",
              "    </tr>\n",
              "    <tr>\n",
              "      <th>...</th>\n",
              "      <td>...</td>\n",
              "      <td>...</td>\n",
              "      <td>...</td>\n",
              "    </tr>\n",
              "    <tr>\n",
              "      <th>2476</th>\n",
              "      <td>Non-Covid (527).png</td>\n",
              "      <td>0</td>\n",
              "      <td>0</td>\n",
              "    </tr>\n",
              "    <tr>\n",
              "      <th>2477</th>\n",
              "      <td>Covid (1020).png</td>\n",
              "      <td>1</td>\n",
              "      <td>0</td>\n",
              "    </tr>\n",
              "    <tr>\n",
              "      <th>2478</th>\n",
              "      <td>Non-Covid (463).png</td>\n",
              "      <td>1</td>\n",
              "      <td>0</td>\n",
              "    </tr>\n",
              "    <tr>\n",
              "      <th>2479</th>\n",
              "      <td>Non-Covid (535).png</td>\n",
              "      <td>1</td>\n",
              "      <td>0</td>\n",
              "    </tr>\n",
              "    <tr>\n",
              "      <th>2480</th>\n",
              "      <td>Covid (969).png</td>\n",
              "      <td>0</td>\n",
              "      <td>0</td>\n",
              "    </tr>\n",
              "  </tbody>\n",
              "</table>\n",
              "<p>2481 rows × 3 columns</p>\n",
              "</div>\n",
              "      <button class=\"colab-df-convert\" onclick=\"convertToInteractive('df-e7329c57-96bc-4a81-8ab2-b8237f2327a0')\"\n",
              "              title=\"Convert this dataframe to an interactive table.\"\n",
              "              style=\"display:none;\">\n",
              "        \n",
              "  <svg xmlns=\"http://www.w3.org/2000/svg\" height=\"24px\"viewBox=\"0 0 24 24\"\n",
              "       width=\"24px\">\n",
              "    <path d=\"M0 0h24v24H0V0z\" fill=\"none\"/>\n",
              "    <path d=\"M18.56 5.44l.94 2.06.94-2.06 2.06-.94-2.06-.94-.94-2.06-.94 2.06-2.06.94zm-11 1L8.5 8.5l.94-2.06 2.06-.94-2.06-.94L8.5 2.5l-.94 2.06-2.06.94zm10 10l.94 2.06.94-2.06 2.06-.94-2.06-.94-.94-2.06-.94 2.06-2.06.94z\"/><path d=\"M17.41 7.96l-1.37-1.37c-.4-.4-.92-.59-1.43-.59-.52 0-1.04.2-1.43.59L10.3 9.45l-7.72 7.72c-.78.78-.78 2.05 0 2.83L4 21.41c.39.39.9.59 1.41.59.51 0 1.02-.2 1.41-.59l7.78-7.78 2.81-2.81c.8-.78.8-2.07 0-2.86zM5.41 20L4 18.59l7.72-7.72 1.47 1.35L5.41 20z\"/>\n",
              "  </svg>\n",
              "      </button>\n",
              "      \n",
              "  <style>\n",
              "    .colab-df-container {\n",
              "      display:flex;\n",
              "      flex-wrap:wrap;\n",
              "      gap: 12px;\n",
              "    }\n",
              "\n",
              "    .colab-df-convert {\n",
              "      background-color: #E8F0FE;\n",
              "      border: none;\n",
              "      border-radius: 50%;\n",
              "      cursor: pointer;\n",
              "      display: none;\n",
              "      fill: #1967D2;\n",
              "      height: 32px;\n",
              "      padding: 0 0 0 0;\n",
              "      width: 32px;\n",
              "    }\n",
              "\n",
              "    .colab-df-convert:hover {\n",
              "      background-color: #E2EBFA;\n",
              "      box-shadow: 0px 1px 2px rgba(60, 64, 67, 0.3), 0px 1px 3px 1px rgba(60, 64, 67, 0.15);\n",
              "      fill: #174EA6;\n",
              "    }\n",
              "\n",
              "    [theme=dark] .colab-df-convert {\n",
              "      background-color: #3B4455;\n",
              "      fill: #D2E3FC;\n",
              "    }\n",
              "\n",
              "    [theme=dark] .colab-df-convert:hover {\n",
              "      background-color: #434B5C;\n",
              "      box-shadow: 0px 1px 3px 1px rgba(0, 0, 0, 0.15);\n",
              "      filter: drop-shadow(0px 1px 2px rgba(0, 0, 0, 0.3));\n",
              "      fill: #FFFFFF;\n",
              "    }\n",
              "  </style>\n",
              "\n",
              "      <script>\n",
              "        const buttonEl =\n",
              "          document.querySelector('#df-e7329c57-96bc-4a81-8ab2-b8237f2327a0 button.colab-df-convert');\n",
              "        buttonEl.style.display =\n",
              "          google.colab.kernel.accessAllowed ? 'block' : 'none';\n",
              "\n",
              "        async function convertToInteractive(key) {\n",
              "          const element = document.querySelector('#df-e7329c57-96bc-4a81-8ab2-b8237f2327a0');\n",
              "          const dataTable =\n",
              "            await google.colab.kernel.invokeFunction('convertToInteractive',\n",
              "                                                     [key], {});\n",
              "          if (!dataTable) return;\n",
              "\n",
              "          const docLinkHtml = 'Like what you see? Visit the ' +\n",
              "            '<a target=\"_blank\" href=https://colab.research.google.com/notebooks/data_table.ipynb>data table notebook</a>'\n",
              "            + ' to learn more about interactive tables.';\n",
              "          element.innerHTML = '';\n",
              "          dataTable['output_type'] = 'display_data';\n",
              "          await google.colab.output.renderOutput(dataTable, element);\n",
              "          const docLink = document.createElement('div');\n",
              "          docLink.innerHTML = docLinkHtml;\n",
              "          element.appendChild(docLink);\n",
              "        }\n",
              "      </script>\n",
              "    </div>\n",
              "  </div>\n",
              "  "
            ]
          },
          "metadata": {},
          "execution_count": 39
        }
      ]
    },
    {
      "cell_type": "code",
      "source": [
        "for i in df_vgg.index:\n",
        "  if 'Non' in df_vgg.nome.loc[i]:\n",
        "    df_vgg[\"True Label\"].loc[i] = non_covid\n",
        "  else:\n",
        "    df_vgg[\"True Label\"].loc[i] = 1 - non_covid\n"
      ],
      "metadata": {
        "id": "fClSPPmEcwoP"
      },
      "execution_count": null,
      "outputs": []
    },
    {
      "cell_type": "code",
      "source": [
        "df_vgg"
      ],
      "metadata": {
        "colab": {
          "base_uri": "https://localhost:8080/",
          "height": 424
        },
        "id": "osp31aWIdXXC",
        "outputId": "775facf6-6007-40d4-9cb5-db23b06cf299"
      },
      "execution_count": null,
      "outputs": [
        {
          "output_type": "execute_result",
          "data": {
            "text/plain": [
              "                      nome  cluster vgg  True Label\n",
              "0      Non-Covid (520).png            0           1\n",
              "1          Covid (370).png            1           0\n",
              "2     Non-Covid (1153).png            0           1\n",
              "3          Covid (845).png            1           0\n",
              "4          Covid (858).png            1           0\n",
              "...                    ...          ...         ...\n",
              "2476   Non-Covid (527).png            0           1\n",
              "2477      Covid (1020).png            1           0\n",
              "2478   Non-Covid (463).png            1           1\n",
              "2479   Non-Covid (535).png            1           1\n",
              "2480       Covid (969).png            0           0\n",
              "\n",
              "[2481 rows x 3 columns]"
            ],
            "text/html": [
              "\n",
              "  <div id=\"df-a239bd39-cd95-4895-b64b-5bb704ef803d\">\n",
              "    <div class=\"colab-df-container\">\n",
              "      <div>\n",
              "<style scoped>\n",
              "    .dataframe tbody tr th:only-of-type {\n",
              "        vertical-align: middle;\n",
              "    }\n",
              "\n",
              "    .dataframe tbody tr th {\n",
              "        vertical-align: top;\n",
              "    }\n",
              "\n",
              "    .dataframe thead th {\n",
              "        text-align: right;\n",
              "    }\n",
              "</style>\n",
              "<table border=\"1\" class=\"dataframe\">\n",
              "  <thead>\n",
              "    <tr style=\"text-align: right;\">\n",
              "      <th></th>\n",
              "      <th>nome</th>\n",
              "      <th>cluster vgg</th>\n",
              "      <th>True Label</th>\n",
              "    </tr>\n",
              "  </thead>\n",
              "  <tbody>\n",
              "    <tr>\n",
              "      <th>0</th>\n",
              "      <td>Non-Covid (520).png</td>\n",
              "      <td>0</td>\n",
              "      <td>1</td>\n",
              "    </tr>\n",
              "    <tr>\n",
              "      <th>1</th>\n",
              "      <td>Covid (370).png</td>\n",
              "      <td>1</td>\n",
              "      <td>0</td>\n",
              "    </tr>\n",
              "    <tr>\n",
              "      <th>2</th>\n",
              "      <td>Non-Covid (1153).png</td>\n",
              "      <td>0</td>\n",
              "      <td>1</td>\n",
              "    </tr>\n",
              "    <tr>\n",
              "      <th>3</th>\n",
              "      <td>Covid (845).png</td>\n",
              "      <td>1</td>\n",
              "      <td>0</td>\n",
              "    </tr>\n",
              "    <tr>\n",
              "      <th>4</th>\n",
              "      <td>Covid (858).png</td>\n",
              "      <td>1</td>\n",
              "      <td>0</td>\n",
              "    </tr>\n",
              "    <tr>\n",
              "      <th>...</th>\n",
              "      <td>...</td>\n",
              "      <td>...</td>\n",
              "      <td>...</td>\n",
              "    </tr>\n",
              "    <tr>\n",
              "      <th>2476</th>\n",
              "      <td>Non-Covid (527).png</td>\n",
              "      <td>0</td>\n",
              "      <td>1</td>\n",
              "    </tr>\n",
              "    <tr>\n",
              "      <th>2477</th>\n",
              "      <td>Covid (1020).png</td>\n",
              "      <td>1</td>\n",
              "      <td>0</td>\n",
              "    </tr>\n",
              "    <tr>\n",
              "      <th>2478</th>\n",
              "      <td>Non-Covid (463).png</td>\n",
              "      <td>1</td>\n",
              "      <td>1</td>\n",
              "    </tr>\n",
              "    <tr>\n",
              "      <th>2479</th>\n",
              "      <td>Non-Covid (535).png</td>\n",
              "      <td>1</td>\n",
              "      <td>1</td>\n",
              "    </tr>\n",
              "    <tr>\n",
              "      <th>2480</th>\n",
              "      <td>Covid (969).png</td>\n",
              "      <td>0</td>\n",
              "      <td>0</td>\n",
              "    </tr>\n",
              "  </tbody>\n",
              "</table>\n",
              "<p>2481 rows × 3 columns</p>\n",
              "</div>\n",
              "      <button class=\"colab-df-convert\" onclick=\"convertToInteractive('df-a239bd39-cd95-4895-b64b-5bb704ef803d')\"\n",
              "              title=\"Convert this dataframe to an interactive table.\"\n",
              "              style=\"display:none;\">\n",
              "        \n",
              "  <svg xmlns=\"http://www.w3.org/2000/svg\" height=\"24px\"viewBox=\"0 0 24 24\"\n",
              "       width=\"24px\">\n",
              "    <path d=\"M0 0h24v24H0V0z\" fill=\"none\"/>\n",
              "    <path d=\"M18.56 5.44l.94 2.06.94-2.06 2.06-.94-2.06-.94-.94-2.06-.94 2.06-2.06.94zm-11 1L8.5 8.5l.94-2.06 2.06-.94-2.06-.94L8.5 2.5l-.94 2.06-2.06.94zm10 10l.94 2.06.94-2.06 2.06-.94-2.06-.94-.94-2.06-.94 2.06-2.06.94z\"/><path d=\"M17.41 7.96l-1.37-1.37c-.4-.4-.92-.59-1.43-.59-.52 0-1.04.2-1.43.59L10.3 9.45l-7.72 7.72c-.78.78-.78 2.05 0 2.83L4 21.41c.39.39.9.59 1.41.59.51 0 1.02-.2 1.41-.59l7.78-7.78 2.81-2.81c.8-.78.8-2.07 0-2.86zM5.41 20L4 18.59l7.72-7.72 1.47 1.35L5.41 20z\"/>\n",
              "  </svg>\n",
              "      </button>\n",
              "      \n",
              "  <style>\n",
              "    .colab-df-container {\n",
              "      display:flex;\n",
              "      flex-wrap:wrap;\n",
              "      gap: 12px;\n",
              "    }\n",
              "\n",
              "    .colab-df-convert {\n",
              "      background-color: #E8F0FE;\n",
              "      border: none;\n",
              "      border-radius: 50%;\n",
              "      cursor: pointer;\n",
              "      display: none;\n",
              "      fill: #1967D2;\n",
              "      height: 32px;\n",
              "      padding: 0 0 0 0;\n",
              "      width: 32px;\n",
              "    }\n",
              "\n",
              "    .colab-df-convert:hover {\n",
              "      background-color: #E2EBFA;\n",
              "      box-shadow: 0px 1px 2px rgba(60, 64, 67, 0.3), 0px 1px 3px 1px rgba(60, 64, 67, 0.15);\n",
              "      fill: #174EA6;\n",
              "    }\n",
              "\n",
              "    [theme=dark] .colab-df-convert {\n",
              "      background-color: #3B4455;\n",
              "      fill: #D2E3FC;\n",
              "    }\n",
              "\n",
              "    [theme=dark] .colab-df-convert:hover {\n",
              "      background-color: #434B5C;\n",
              "      box-shadow: 0px 1px 3px 1px rgba(0, 0, 0, 0.15);\n",
              "      filter: drop-shadow(0px 1px 2px rgba(0, 0, 0, 0.3));\n",
              "      fill: #FFFFFF;\n",
              "    }\n",
              "  </style>\n",
              "\n",
              "      <script>\n",
              "        const buttonEl =\n",
              "          document.querySelector('#df-a239bd39-cd95-4895-b64b-5bb704ef803d button.colab-df-convert');\n",
              "        buttonEl.style.display =\n",
              "          google.colab.kernel.accessAllowed ? 'block' : 'none';\n",
              "\n",
              "        async function convertToInteractive(key) {\n",
              "          const element = document.querySelector('#df-a239bd39-cd95-4895-b64b-5bb704ef803d');\n",
              "          const dataTable =\n",
              "            await google.colab.kernel.invokeFunction('convertToInteractive',\n",
              "                                                     [key], {});\n",
              "          if (!dataTable) return;\n",
              "\n",
              "          const docLinkHtml = 'Like what you see? Visit the ' +\n",
              "            '<a target=\"_blank\" href=https://colab.research.google.com/notebooks/data_table.ipynb>data table notebook</a>'\n",
              "            + ' to learn more about interactive tables.';\n",
              "          element.innerHTML = '';\n",
              "          dataTable['output_type'] = 'display_data';\n",
              "          await google.colab.output.renderOutput(dataTable, element);\n",
              "          const docLink = document.createElement('div');\n",
              "          docLink.innerHTML = docLinkHtml;\n",
              "          element.appendChild(docLink);\n",
              "        }\n",
              "      </script>\n",
              "    </div>\n",
              "  </div>\n",
              "  "
            ]
          },
          "metadata": {},
          "execution_count": 41
        }
      ]
    },
    {
      "cell_type": "code",
      "source": [
        "from sklearn.metrics import confusion_matrix\n",
        "\n",
        "cm = confusion_matrix(df_vgg['True Label'], df_vgg['cluster vgg'])\n"
      ],
      "metadata": {
        "id": "J2FWNZOWeZdG"
      },
      "execution_count": null,
      "outputs": []
    },
    {
      "cell_type": "code",
      "source": [
        "import seaborn as sns\n",
        "disease_types = ['covid', 'non covid']\n",
        "plt.figure(figsize=(8, 8))\n",
        "ax = sns.heatmap(cm, cmap=plt.cm.Blues, annot=True, square=True, fmt='g', xticklabels=disease_types, yticklabels=disease_types)\n",
        "ax.set_ylabel('Actual', fontsize=40)\n",
        "ax.set_xlabel('Predicted', fontsize=40)"
      ],
      "metadata": {
        "colab": {
          "base_uri": "https://localhost:8080/",
          "height": 509
        },
        "id": "_gLQ7TUVfDiw",
        "outputId": "47a205b7-8723-4bd4-b2d9-6d43d2478577"
      },
      "execution_count": null,
      "outputs": [
        {
          "output_type": "execute_result",
          "data": {
            "text/plain": [
              "Text(0.5, 86.87999999999997, 'Predicted')"
            ]
          },
          "metadata": {},
          "execution_count": 43
        },
        {
          "output_type": "display_data",
          "data": {
            "text/plain": [
              "<Figure size 576x576 with 2 Axes>"
            ],
            "image/png": "[encoded data removed]"
          },
          "metadata": {}
        }
      ]
    },
    {
      "cell_type": "code",
      "source": [
        "cm"
      ],
      "metadata": {
        "colab": {
          "base_uri": "https://localhost:8080/"
        },
        "id": "JL6GaLRVlcsK",
        "outputId": "10244ca4-ea09-43cf-d6f9-c87f1c5a7a13"
      },
      "execution_count": null,
      "outputs": [
        {
          "output_type": "execute_result",
          "data": {
            "text/plain": [
              "array([[413, 839],\n",
              "       [283, 946]])"
            ]
          },
          "metadata": {},
          "execution_count": 44
        }
      ]
    },
    {
      "cell_type": "code",
      "source": [
        "len(df_vgg[(df_vgg['True Label'] == 0) & (df_vgg['cluster vgg'] == 1)])"
      ],
      "metadata": {
        "colab": {
          "base_uri": "https://localhost:8080/"
        },
        "id": "T6n39s7hoLOD",
        "outputId": "d0ef3826-11f0-4c05-f3bf-1878b5d53abe"
      },
      "execution_count": null,
      "outputs": [
        {
          "output_type": "execute_result",
          "data": {
            "text/plain": [
              "839"
            ]
          },
          "metadata": {},
          "execution_count": 45
        }
      ]
    },
    {
      "cell_type": "markdown",
      "source": [
        "## Image similarity\n",
        "Calculating image similarity using different similarity metrics."
      ],
      "metadata": {
        "id": "j0zNWbZSNeX8"
      }
    },
    {
      "cell_type": "code",
      "source": [
        "# creating dataframe using img feature calculated beforehand\n",
        "df_images = pd.DataFrame(flattened_img, index=img_name)\n",
        "df_images.head(5)"
      ],
      "metadata": {
        "colab": {
          "base_uri": "https://localhost:8080/",
          "height": 421
        },
        "id": "f93w8UsnNX7E",
        "outputId": "57e9664a-5e5a-477f-f9ea-ad09a2bed778"
      },
      "execution_count": null,
      "outputs": [
        {
          "output_type": "execute_result",
          "data": {
            "text/plain": [
              "                          0     1         2         3         4     5     \\\n",
              "Non-Covid (520).png   0.000000   0.0  1.251591  0.221018  0.418808   0.0   \n",
              "Covid (370).png       0.087096   0.0  1.316731  0.278746  0.896023   0.0   \n",
              "Non-Covid (1153).png  0.000000   0.0  1.260932  0.467700  0.466579   0.0   \n",
              "Covid (845).png       0.143671   0.0  1.441163  0.413132  0.812411   0.0   \n",
              "Covid (858).png       0.118638   0.0  1.372744  0.422497  0.878288   0.0   \n",
              "\n",
              "                      6     7         8     9     ...  4086      4087  \\\n",
              "Non-Covid (520).png    0.0   0.0  0.420486   0.0  ...   0.0  1.693559   \n",
              "Covid (370).png        0.0   0.0  0.814015   0.0  ...   0.0  1.507797   \n",
              "Non-Covid (1153).png   0.0   0.0  0.595809   0.0  ...   0.0  1.844725   \n",
              "Covid (845).png        0.0   0.0  0.538521   0.0  ...   0.0  1.286106   \n",
              "Covid (858).png        0.0   0.0  0.470827   0.0  ...   0.0  1.479987   \n",
              "\n",
              "                          4088      4089      4090  4091      4092  4093  \\\n",
              "Non-Covid (520).png   1.234957  0.428030  0.650480   0.0  0.127874   0.0   \n",
              "Covid (370).png       1.051467  0.087073  0.461906   0.0  0.407211   0.0   \n",
              "Non-Covid (1153).png  1.239521  0.351306  0.607248   0.0  0.174432   0.0   \n",
              "Covid (845).png       1.013434  0.058648  0.362130   0.0  0.249883   0.0   \n",
              "Covid (858).png       1.139221  0.078860  0.480750   0.0  0.260130   0.0   \n",
              "\n",
              "                      4094      4095  \n",
              "Non-Covid (520).png    0.0  0.839416  \n",
              "Covid (370).png        0.0  1.239043  \n",
              "Non-Covid (1153).png   0.0  0.962228  \n",
              "Covid (845).png        0.0  1.297005  \n",
              "Covid (858).png        0.0  1.186260  \n",
              "\n",
              "[5 rows x 4096 columns]"
            ],
            "text/html": [
              "\n",
              "  <div id=\"df-31ce4c27-1569-42d7-a18c-4be98187b9aa\">\n",
              "    <div class=\"colab-df-container\">\n",
              "      <div>\n",
              "<style scoped>\n",
              "    .dataframe tbody tr th:only-of-type {\n",
              "        vertical-align: middle;\n",
              "    }\n",
              "\n",
              "    .dataframe tbody tr th {\n",
              "        vertical-align: top;\n",
              "    }\n",
              "\n",
              "    .dataframe thead th {\n",
              "        text-align: right;\n",
              "    }\n",
              "</style>\n",
              "<table border=\"1\" class=\"dataframe\">\n",
              "  <thead>\n",
              "    <tr style=\"text-align: right;\">\n",
              "      <th></th>\n",
              "      <th>0</th>\n",
              "      <th>1</th>\n",
              "      <th>2</th>\n",
              "      <th>3</th>\n",
              "      <th>4</th>\n",
              "      <th>5</th>\n",
              "      <th>6</th>\n",
              "      <th>7</th>\n",
              "      <th>8</th>\n",
              "      <th>9</th>\n",
              "      <th>...</th>\n",
              "      <th>4086</th>\n",
              "      <th>4087</th>\n",
              "      <th>4088</th>\n",
              "      <th>4089</th>\n",
              "      <th>4090</th>\n",
              "      <th>4091</th>\n",
              "      <th>4092</th>\n",
              "      <th>4093</th>\n",
              "      <th>4094</th>\n",
              "      <th>4095</th>\n",
              "    </tr>\n",
              "  </thead>\n",
              "  <tbody>\n",
              "    <tr>\n",
              "      <th>Non-Covid (520).png</th>\n",
              "      <td>0.000000</td>\n",
              "      <td>0.0</td>\n",
              "      <td>1.251591</td>\n",
              "      <td>0.221018</td>\n",
              "      <td>0.418808</td>\n",
              "      <td>0.0</td>\n",
              "      <td>0.0</td>\n",
              "      <td>0.0</td>\n",
              "      <td>0.420486</td>\n",
              "      <td>0.0</td>\n",
              "      <td>...</td>\n",
              "      <td>0.0</td>\n",
              "      <td>1.693559</td>\n",
              "      <td>1.234957</td>\n",
              "      <td>0.428030</td>\n",
              "      <td>0.650480</td>\n",
              "      <td>0.0</td>\n",
              "      <td>0.127874</td>\n",
              "      <td>0.0</td>\n",
              "      <td>0.0</td>\n",
              "      <td>0.839416</td>\n",
              "    </tr>\n",
              "    <tr>\n",
              "      <th>Covid (370).png</th>\n",
              "      <td>0.087096</td>\n",
              "      <td>0.0</td>\n",
              "      <td>1.316731</td>\n",
              "      <td>0.278746</td>\n",
              "      <td>0.896023</td>\n",
              "      <td>0.0</td>\n",
              "      <td>0.0</td>\n",
              "      <td>0.0</td>\n",
              "      <td>0.814015</td>\n",
              "      <td>0.0</td>\n",
              "      <td>...</td>\n",
              "      <td>0.0</td>\n",
              "      <td>1.507797</td>\n",
              "      <td>1.051467</td>\n",
              "      <td>0.087073</td>\n",
              "      <td>0.461906</td>\n",
              "      <td>0.0</td>\n",
              "      <td>0.407211</td>\n",
              "      <td>0.0</td>\n",
              "      <td>0.0</td>\n",
              "      <td>1.239043</td>\n",
              "    </tr>\n",
              "    <tr>\n",
              "      <th>Non-Covid (1153).png</th>\n",
              "      <td>0.000000</td>\n",
              "      <td>0.0</td>\n",
              "      <td>1.260932</td>\n",
              "      <td>0.467700</td>\n",
              "      <td>0.466579</td>\n",
              "      <td>0.0</td>\n",
              "      <td>0.0</td>\n",
              "      <td>0.0</td>\n",
              "      <td>0.595809</td>\n",
              "      <td>0.0</td>\n",
              "      <td>...</td>\n",
              "      <td>0.0</td>\n",
              "      <td>1.844725</td>\n",
              "      <td>1.239521</td>\n",
              "      <td>0.351306</td>\n",
              "      <td>0.607248</td>\n",
              "      <td>0.0</td>\n",
              "      <td>0.174432</td>\n",
              "      <td>0.0</td>\n",
              "      <td>0.0</td>\n",
              "      <td>0.962228</td>\n",
              "    </tr>\n",
              "    <tr>\n",
              "      <th>Covid (845).png</th>\n",
              "      <td>0.143671</td>\n",
              "      <td>0.0</td>\n",
              "      <td>1.441163</td>\n",
              "      <td>0.413132</td>\n",
              "      <td>0.812411</td>\n",
              "      <td>0.0</td>\n",
              "      <td>0.0</td>\n",
              "      <td>0.0</td>\n",
              "      <td>0.538521</td>\n",
              "      <td>0.0</td>\n",
              "      <td>...</td>\n",
              "      <td>0.0</td>\n",
              "      <td>1.286106</td>\n",
              "      <td>1.013434</td>\n",
              "      <td>0.058648</td>\n",
              "      <td>0.362130</td>\n",
              "      <td>0.0</td>\n",
              "      <td>0.249883</td>\n",
              "      <td>0.0</td>\n",
              "      <td>0.0</td>\n",
              "      <td>1.297005</td>\n",
              "    </tr>\n",
              "    <tr>\n",
              "      <th>Covid (858).png</th>\n",
              "      <td>0.118638</td>\n",
              "      <td>0.0</td>\n",
              "      <td>1.372744</td>\n",
              "      <td>0.422497</td>\n",
              "      <td>0.878288</td>\n",
              "      <td>0.0</td>\n",
              "      <td>0.0</td>\n",
              "      <td>0.0</td>\n",
              "      <td>0.470827</td>\n",
              "      <td>0.0</td>\n",
              "      <td>...</td>\n",
              "      <td>0.0</td>\n",
              "      <td>1.479987</td>\n",
              "      <td>1.139221</td>\n",
              "      <td>0.078860</td>\n",
              "      <td>0.480750</td>\n",
              "      <td>0.0</td>\n",
              "      <td>0.260130</td>\n",
              "      <td>0.0</td>\n",
              "      <td>0.0</td>\n",
              "      <td>1.186260</td>\n",
              "    </tr>\n",
              "  </tbody>\n",
              "</table>\n",
              "<p>5 rows × 4096 columns</p>\n",
              "</div>\n",
              "      <button class=\"colab-df-convert\" onclick=\"convertToInteractive('df-31ce4c27-1569-42d7-a18c-4be98187b9aa')\"\n",
              "              title=\"Convert this dataframe to an interactive table.\"\n",
              "              style=\"display:none;\">\n",
              "        \n",
              "  <svg xmlns=\"http://www.w3.org/2000/svg\" height=\"24px\"viewBox=\"0 0 24 24\"\n",
              "       width=\"24px\">\n",
              "    <path d=\"M0 0h24v24H0V0z\" fill=\"none\"/>\n",
              "    <path d=\"M18.56 5.44l.94 2.06.94-2.06 2.06-.94-2.06-.94-.94-2.06-.94 2.06-2.06.94zm-11 1L8.5 8.5l.94-2.06 2.06-.94-2.06-.94L8.5 2.5l-.94 2.06-2.06.94zm10 10l.94 2.06.94-2.06 2.06-.94-2.06-.94-.94-2.06-.94 2.06-2.06.94z\"/><path d=\"M17.41 7.96l-1.37-1.37c-.4-.4-.92-.59-1.43-.59-.52 0-1.04.2-1.43.59L10.3 9.45l-7.72 7.72c-.78.78-.78 2.05 0 2.83L4 21.41c.39.39.9.59 1.41.59.51 0 1.02-.2 1.41-.59l7.78-7.78 2.81-2.81c.8-.78.8-2.07 0-2.86zM5.41 20L4 18.59l7.72-7.72 1.47 1.35L5.41 20z\"/>\n",
              "  </svg>\n",
              "      </button>\n",
              "      \n",
              "  <style>\n",
              "    .colab-df-container {\n",
              "      display:flex;\n",
              "      flex-wrap:wrap;\n",
              "      gap: 12px;\n",
              "    }\n",
              "\n",
              "    .colab-df-convert {\n",
              "      background-color: #E8F0FE;\n",
              "      border: none;\n",
              "      border-radius: 50%;\n",
              "      cursor: pointer;\n",
              "      display: none;\n",
              "      fill: #1967D2;\n",
              "      height: 32px;\n",
              "      padding: 0 0 0 0;\n",
              "      width: 32px;\n",
              "    }\n",
              "\n",
              "    .colab-df-convert:hover {\n",
              "      background-color: #E2EBFA;\n",
              "      box-shadow: 0px 1px 2px rgba(60, 64, 67, 0.3), 0px 1px 3px 1px rgba(60, 64, 67, 0.15);\n",
              "      fill: #174EA6;\n",
              "    }\n",
              "\n",
              "    [theme=dark] .colab-df-convert {\n",
              "      background-color: #3B4455;\n",
              "      fill: #D2E3FC;\n",
              "    }\n",
              "\n",
              "    [theme=dark] .colab-df-convert:hover {\n",
              "      background-color: #434B5C;\n",
              "      box-shadow: 0px 1px 3px 1px rgba(0, 0, 0, 0.15);\n",
              "      filter: drop-shadow(0px 1px 2px rgba(0, 0, 0, 0.3));\n",
              "      fill: #FFFFFF;\n",
              "    }\n",
              "  </style>\n",
              "\n",
              "      <script>\n",
              "        const buttonEl =\n",
              "          document.querySelector('#df-31ce4c27-1569-42d7-a18c-4be98187b9aa button.colab-df-convert');\n",
              "        buttonEl.style.display =\n",
              "          google.colab.kernel.accessAllowed ? 'block' : 'none';\n",
              "\n",
              "        async function convertToInteractive(key) {\n",
              "          const element = document.querySelector('#df-31ce4c27-1569-42d7-a18c-4be98187b9aa');\n",
              "          const dataTable =\n",
              "            await google.colab.kernel.invokeFunction('convertToInteractive',\n",
              "                                                     [key], {});\n",
              "          if (!dataTable) return;\n",
              "\n",
              "          const docLinkHtml = 'Like what you see? Visit the ' +\n",
              "            '<a target=\"_blank\" href=https://colab.research.google.com/notebooks/data_table.ipynb>data table notebook</a>'\n",
              "            + ' to learn more about interactive tables.';\n",
              "          element.innerHTML = '';\n",
              "          dataTable['output_type'] = 'display_data';\n",
              "          await google.colab.output.renderOutput(dataTable, element);\n",
              "          const docLink = document.createElement('div');\n",
              "          docLink.innerHTML = docLinkHtml;\n",
              "          element.appendChild(docLink);\n",
              "        }\n",
              "      </script>\n",
              "    </div>\n",
              "  </div>\n",
              "  "
            ]
          },
          "metadata": {},
          "execution_count": 46
        }
      ]
    },
    {
      "cell_type": "markdown",
      "source": [
        "### Euclidean distance"
      ],
      "metadata": {
        "id": "yXlUmMqdOkWm"
      }
    },
    {
      "cell_type": "code",
      "source": [
        "# euclidean (default parameter distance_matrix p = 2)\n",
        "start_euclidean = time.time()\n",
        "euclidean = pd.DataFrame(distance_matrix(df_images.values, df_images.values), index=df_images.index, columns=df_images.index)\n",
        "final_euclidean = time.time() - start_euclidean"
      ],
      "metadata": {
        "id": "BOGP2jqEOWKj"
      },
      "execution_count": null,
      "outputs": []
    },
    {
      "cell_type": "code",
      "source": [
        "# printing the closest images to a given image (test)\n",
        "euclidean['Covid (11).png'].nsmallest(10)"
      ],
      "metadata": {
        "colab": {
          "base_uri": "https://localhost:8080/"
        },
        "id": "00qOO0GhOqMx",
        "outputId": "b53a6315-29f4-49f8-c546-697fea5a98ae"
      },
      "execution_count": null,
      "outputs": [
        {
          "output_type": "execute_result",
          "data": {
            "text/plain": [
              "Covid (11).png      0.000000\n",
              "Covid (10).png      5.044237\n",
              "Covid (9).png       5.216575\n",
              "Covid (7).png       5.366570\n",
              "Covid (8).png       6.165296\n",
              "Covid (5).png       6.667800\n",
              "Covid (6).png       7.002062\n",
              "Covid (512).png     7.189174\n",
              "Covid (3).png       7.402007\n",
              "Covid (1133).png    7.442588\n",
              "Name: Covid (11).png, dtype: float64"
            ]
          },
          "metadata": {},
          "execution_count": 48
        }
      ]
    },
    {
      "cell_type": "markdown",
      "source": [
        "### Cosine distance"
      ],
      "metadata": {
        "id": "x7Zt3DEwSuCj"
      }
    },
    {
      "cell_type": "code",
      "source": [
        "start_cosine_time = time.time()\n",
        "result=np.zeros((len(flattened_img), len(flattened_img)))\n",
        "for i in range(len(flattened_img)):\n",
        "  for j in range(len(flattened_img)):\n",
        "    result[i][j] = distance.cosine(flattened_img[i], flattened_img[j])\n",
        "\n",
        "cosine_df = pd.DataFrame(result, columns = img_name, index = img_name)\n",
        "final_cosine = time.time()-start_cosine_time"
      ],
      "metadata": {
        "id": "p-YvIo1DO3KP"
      },
      "execution_count": null,
      "outputs": []
    },
    {
      "cell_type": "code",
      "source": [
        "# printing the closest images to a given image (test)\n",
        "cosine_df['Covid (11).png'].nsmallest(10)"
      ],
      "metadata": {
        "colab": {
          "base_uri": "https://localhost:8080/"
        },
        "id": "2QBfrOvxQ-96",
        "outputId": "517a16fb-4c7f-4510-87de-3560fbe4b218"
      },
      "execution_count": null,
      "outputs": [
        {
          "output_type": "execute_result",
          "data": {
            "text/plain": [
              "Covid (11).png      0.000000\n",
              "Covid (10).png      0.004940\n",
              "Covid (9).png       0.005364\n",
              "Covid (7).png       0.005493\n",
              "Covid (8).png       0.007494\n",
              "Covid (5).png       0.008669\n",
              "Covid (6).png       0.009668\n",
              "Covid (512).png     0.010188\n",
              "Covid (3).png       0.010732\n",
              "Covid (1133).png    0.010946\n",
              "Name: Covid (11).png, dtype: float64"
            ]
          },
          "metadata": {},
          "execution_count": 50
        }
      ]
    },
    {
      "cell_type": "markdown",
      "source": [
        "## Summary"
      ],
      "metadata": {
        "id": "Dl0F0qmgWbJi"
      }
    },
    {
      "cell_type": "code",
      "source": [
        "rows = ['Classification with CNN', 'Clustering with PCA - KMeans', 'Clustering with VGG - KMeans', 'Image similarity - Euclidean', 'Image similarity - Cosine']\n",
        "\n",
        "column = ['Computational time']\n"
      ],
      "metadata": {
        "id": "DSYXSXU_XhJF"
      },
      "execution_count": null,
      "outputs": []
    },
    {
      "cell_type": "code",
      "source": [
        "computational_times = [str(datetime.timedelta(seconds = end_cnn_time)), str(datetime.timedelta(seconds = end_pca_k)),\n",
        "                           str(datetime.timedelta(seconds = final_time_vggmeans)), str(datetime.timedelta(seconds = final_euclidean)), str(datetime.timedelta(seconds = final_cosine))]\n",
        "computational_times"
      ],
      "metadata": {
        "colab": {
          "base_uri": "https://localhost:8080/"
        },
        "id": "tgt5ilncw05N",
        "outputId": "c4b888c2-e6d2-4ebb-c877-5d7cc2b29c78"
      },
      "execution_count": null,
      "outputs": [
        {
          "output_type": "execute_result",
          "data": {
            "text/plain": [
              "['0:00:51.511646',\n",
              " '0:03:44.233703',\n",
              " '0:02:47.041015',\n",
              " '0:02:27.878073',\n",
              " '0:05:23.911404']"
            ]
          },
          "metadata": {},
          "execution_count": 52
        }
      ]
    },
    {
      "cell_type": "code",
      "source": [
        "df_summary = pd.DataFrame(computational_times, columns = column, index = rows)\n",
        "df_summary"
      ],
      "metadata": {
        "colab": {
          "base_uri": "https://localhost:8080/",
          "height": 206
        },
        "id": "jVPCwwPFxsn-",
        "outputId": "1a6e525a-234c-4599-842f-2cce74056a3c"
      },
      "execution_count": null,
      "outputs": [
        {
          "output_type": "execute_result",
          "data": {
            "text/plain": [
              "                             Computational time\n",
              "Classification with CNN          0:00:51.511646\n",
              "Clustering with PCA - KMeans     0:03:44.233703\n",
              "Clustering with VGG - KMeans     0:02:47.041015\n",
              "Image similarity - Euclidean     0:02:27.878073\n",
              "Image similarity - Cosine        0:05:23.911404"
            ],
            "text/html": [
              "\n",
              "  <div id=\"df-4f272c31-4e38-4efb-86c3-1d83218e4e52\">\n",
              "    <div class=\"colab-df-container\">\n",
              "      <div>\n",
              "<style scoped>\n",
              "    .dataframe tbody tr th:only-of-type {\n",
              "        vertical-align: middle;\n",
              "    }\n",
              "\n",
              "    .dataframe tbody tr th {\n",
              "        vertical-align: top;\n",
              "    }\n",
              "\n",
              "    .dataframe thead th {\n",
              "        text-align: right;\n",
              "    }\n",
              "</style>\n",
              "<table border=\"1\" class=\"dataframe\">\n",
              "  <thead>\n",
              "    <tr style=\"text-align: right;\">\n",
              "      <th></th>\n",
              "      <th>Computational time</th>\n",
              "    </tr>\n",
              "  </thead>\n",
              "  <tbody>\n",
              "    <tr>\n",
              "      <th>Classification with CNN</th>\n",
              "      <td>0:00:51.511646</td>\n",
              "    </tr>\n",
              "    <tr>\n",
              "      <th>Clustering with PCA - KMeans</th>\n",
              "      <td>0:03:44.233703</td>\n",
              "    </tr>\n",
              "    <tr>\n",
              "      <th>Clustering with VGG - KMeans</th>\n",
              "      <td>0:02:47.041015</td>\n",
              "    </tr>\n",
              "    <tr>\n",
              "      <th>Image similarity - Euclidean</th>\n",
              "      <td>0:02:27.878073</td>\n",
              "    </tr>\n",
              "    <tr>\n",
              "      <th>Image similarity - Cosine</th>\n",
              "      <td>0:05:23.911404</td>\n",
              "    </tr>\n",
              "  </tbody>\n",
              "</table>\n",
              "</div>\n",
              "      <button class=\"colab-df-convert\" onclick=\"convertToInteractive('df-4f272c31-4e38-4efb-86c3-1d83218e4e52')\"\n",
              "              title=\"Convert this dataframe to an interactive table.\"\n",
              "              style=\"display:none;\">\n",
              "        \n",
              "  <svg xmlns=\"http://www.w3.org/2000/svg\" height=\"24px\"viewBox=\"0 0 24 24\"\n",
              "       width=\"24px\">\n",
              "    <path d=\"M0 0h24v24H0V0z\" fill=\"none\"/>\n",
              "    <path d=\"M18.56 5.44l.94 2.06.94-2.06 2.06-.94-2.06-.94-.94-2.06-.94 2.06-2.06.94zm-11 1L8.5 8.5l.94-2.06 2.06-.94-2.06-.94L8.5 2.5l-.94 2.06-2.06.94zm10 10l.94 2.06.94-2.06 2.06-.94-2.06-.94-.94-2.06-.94 2.06-2.06.94z\"/><path d=\"M17.41 7.96l-1.37-1.37c-.4-.4-.92-.59-1.43-.59-.52 0-1.04.2-1.43.59L10.3 9.45l-7.72 7.72c-.78.78-.78 2.05 0 2.83L4 21.41c.39.39.9.59 1.41.59.51 0 1.02-.2 1.41-.59l7.78-7.78 2.81-2.81c.8-.78.8-2.07 0-2.86zM5.41 20L4 18.59l7.72-7.72 1.47 1.35L5.41 20z\"/>\n",
              "  </svg>\n",
              "      </button>\n",
              "      \n",
              "  <style>\n",
              "    .colab-df-container {\n",
              "      display:flex;\n",
              "      flex-wrap:wrap;\n",
              "      gap: 12px;\n",
              "    }\n",
              "\n",
              "    .colab-df-convert {\n",
              "      background-color: #E8F0FE;\n",
              "      border: none;\n",
              "      border-radius: 50%;\n",
              "      cursor: pointer;\n",
              "      display: none;\n",
              "      fill: #1967D2;\n",
              "      height: 32px;\n",
              "      padding: 0 0 0 0;\n",
              "      width: 32px;\n",
              "    }\n",
              "\n",
              "    .colab-df-convert:hover {\n",
              "      background-color: #E2EBFA;\n",
              "      box-shadow: 0px 1px 2px rgba(60, 64, 67, 0.3), 0px 1px 3px 1px rgba(60, 64, 67, 0.15);\n",
              "      fill: #174EA6;\n",
              "    }\n",
              "\n",
              "    [theme=dark] .colab-df-convert {\n",
              "      background-color: #3B4455;\n",
              "      fill: #D2E3FC;\n",
              "    }\n",
              "\n",
              "    [theme=dark] .colab-df-convert:hover {\n",
              "      background-color: #434B5C;\n",
              "      box-shadow: 0px 1px 3px 1px rgba(0, 0, 0, 0.15);\n",
              "      filter: drop-shadow(0px 1px 2px rgba(0, 0, 0, 0.3));\n",
              "      fill: #FFFFFF;\n",
              "    }\n",
              "  </style>\n",
              "\n",
              "      <script>\n",
              "        const buttonEl =\n",
              "          document.querySelector('#df-4f272c31-4e38-4efb-86c3-1d83218e4e52 button.colab-df-convert');\n",
              "        buttonEl.style.display =\n",
              "          google.colab.kernel.accessAllowed ? 'block' : 'none';\n",
              "\n",
              "        async function convertToInteractive(key) {\n",
              "          const element = document.querySelector('#df-4f272c31-4e38-4efb-86c3-1d83218e4e52');\n",
              "          const dataTable =\n",
              "            await google.colab.kernel.invokeFunction('convertToInteractive',\n",
              "                                                     [key], {});\n",
              "          if (!dataTable) return;\n",
              "\n",
              "          const docLinkHtml = 'Like what you see? Visit the ' +\n",
              "            '<a target=\"_blank\" href=https://colab.research.google.com/notebooks/data_table.ipynb>data table notebook</a>'\n",
              "            + ' to learn more about interactive tables.';\n",
              "          element.innerHTML = '';\n",
              "          dataTable['output_type'] = 'display_data';\n",
              "          await google.colab.output.renderOutput(dataTable, element);\n",
              "          const docLink = document.createElement('div');\n",
              "          docLink.innerHTML = docLinkHtml;\n",
              "          element.appendChild(docLink);\n",
              "        }\n",
              "      </script>\n",
              "    </div>\n",
              "  </div>\n",
              "  "
            ]
          },
          "metadata": {},
          "execution_count": 53
        }
      ]
    },
    {
      "cell_type": "code",
      "source": [
        "def has_covid(stringa):\n",
        "  if 'Non' in stringa:\n",
        "    return 0\n",
        "  return 1\n",
        "\n",
        "\n",
        "def precision_score(image, retrieved):\n",
        "  result = 0\n",
        "  for i in retrieved.keys():\n",
        "    if has_covid(i) == has_covid(image):\n",
        "      result += 1\n",
        "  return result/len(retrieved)\n",
        "\n",
        "def funct_precision(x, df_metric, img_names):\n",
        "  avg_precision = {}\n",
        "  for i in img_names:\n",
        "    res = df_metric[i].nsmallest(x+1)[1:]\n",
        "    avg_precision[i] = precision_score(i, res)\n",
        "  return sum(avg_precision.values())/len(avg_precision)\n",
        "\n",
        "def recall_score(image, retrieved, tot_pos, tot_neg):\n",
        "  result = 0\n",
        "  for i in retrieved.keys():\n",
        "    if has_covid(i) == has_covid(image):\n",
        "      result += 1\n",
        "  return result/tot_pos if has_covid(image) else result/tot_neg\n",
        "\n",
        "def count_(img_names):\n",
        "  count_pos, count_neg = 0,0\n",
        "  for i in img_names:\n",
        "    if has_covid(i):\n",
        "      count_pos += 1\n",
        "    else:\n",
        "      count_neg += 1\n",
        "  return count_pos, count_neg\n",
        "\n",
        "def funct_recall(x, df_metric, img_names):\n",
        "  avg_recall = {}\n",
        "  for i in img_names:\n",
        "    res = df_metric[i].nsmallest(x+1)[1:]\n",
        "    tot_pos, tot_neg = count_(img_name)\n",
        "    avg_recall[i] = recall_score(i, res, tot_pos, tot_neg)\n",
        "  return sum(avg_recall.values())/len(avg_recall)\n"
      ],
      "metadata": {
        "id": "6wyA8ZQlFx8M"
      },
      "execution_count": null,
      "outputs": []
    },
    {
      "cell_type": "code",
      "source": [
        "#@title Queries { run: \"auto\" }\n",
        "#inizialize \n",
        "\n",
        "\n",
        "#@markdown Estrai le *n* immagini più simili dell'immagine indicata e secondo la metrica { run: \"auto\" }\n",
        "numero_immagini = 11 #@param {type:\"integer\"}\n",
        "numero_immagini +=1\n",
        "metrica = \"euclidean\" #@param [\"euclidean\", \"cosine\"]\n",
        "file_name = \"Covid (17).png\" #@param {type:\"string\"}\n",
        "\n",
        "if len(file_name.strip())!=0:\n",
        "  if metrica == \"euclidean\":\n",
        "    res = euclidean[file_name].nsmallest(numero_immagini)[1:]\n",
        "  else:\n",
        "    res = cosine_df[file_name].nsmallest(numero_immagini)[1:]\n",
        "\n",
        "res = dict(res)\n",
        "print(f\"Le {numero_immagini-1} immagini più simili sono\")\n",
        "for key,value in res.items():\n",
        "\tprint(key, ':', round(value,3))\n",
        " \n",
        "print(f\"Precision: {precision_score(file_name, res)}\")"
      ],
      "metadata": {
        "id": "TmEVOxi-WcJ2",
        "colab": {
          "base_uri": "https://localhost:8080/"
        },
        "outputId": "8c663642-536a-428b-a9c4-ea7817d47df5",
        "cellView": "form"
      },
      "execution_count": null,
      "outputs": [
        {
          "output_type": "stream",
          "name": "stdout",
          "text": [
            "Le 11 immagini più simili sono\n",
            "Covid (16).png : 3.56\n",
            "Covid (18).png : 4.205\n",
            "Covid (15).png : 4.701\n",
            "Covid (20).png : 5.809\n",
            "Covid (12).png : 5.84\n",
            "Covid (14).png : 5.948\n",
            "Non-Covid (351).png : 5.983\n",
            "Covid (19).png : 6.024\n",
            "Covid (660).png : 6.036\n",
            "Non-Covid (203).png : 6.055\n",
            "Non-Covid (201).png : 6.059\n",
            "Precision: 0.7272727272727273\n"
          ]
        }
      ]
    },
    {
      "cell_type": "code",
      "source": [
        "X = np.array(range(1, 2481, 100))\n",
        "#print(X)\n",
        "Y_precision = np.array([funct_precision(i, euclidean, img_name) for i in X])\n"
      ],
      "metadata": {
        "id": "eDi43GN6LYhm"
      },
      "execution_count": null,
      "outputs": []
    },
    {
      "cell_type": "markdown",
      "source": [
        "Precision plot averaged over all images."
      ],
      "metadata": {
        "id": "ITlT1xbns89C"
      }
    },
    {
      "cell_type": "code",
      "source": [
        "plt.plot(X, Y_precision)\n",
        "plt.xlabel(\"# of results\")\n",
        "plt.ylabel(\"precision\")\n",
        "plt.show()"
      ],
      "metadata": {
        "colab": {
          "base_uri": "https://localhost:8080/",
          "height": 554
        },
        "id": "fW1o9lPUSZkw",
        "outputId": "be676132-584c-4398-8d45-0f35d22fef9f"
      },
      "execution_count": null,
      "outputs": [
        {
          "output_type": "display_data",
          "data": {
            "text/plain": [
              "<Figure size 1008x648 with 1 Axes>"
            ],
            "image/png": "[encoded data removed]"
          },
          "metadata": {}
        }
      ]
    },
    {
      "cell_type": "code",
      "source": [
        "Y_recall = np.array([funct_recall(i, euclidean, img_name) for i in X])"
      ],
      "metadata": {
        "id": "N1J237SCg8_p"
      },
      "execution_count": null,
      "outputs": []
    },
    {
      "cell_type": "markdown",
      "source": [
        "Precision-recall curve averaged over all images."
      ],
      "metadata": {
        "id": "iaSiyZTgtKQc"
      }
    },
    {
      "cell_type": "code",
      "source": [
        "plt.plot(Y_recall, Y_precision)\n",
        "plt.xlabel(\"recall\")\n",
        "plt.ylabel(\"precision\")\n",
        "plt.show()"
      ],
      "metadata": {
        "colab": {
          "base_uri": "https://localhost:8080/",
          "height": 554
        },
        "id": "-IWxxUeChIWV",
        "outputId": "6572d597-401d-4370-80dd-e7d14aad73e2"
      },
      "execution_count": null,
      "outputs": [
        {
          "output_type": "display_data",
          "data": {
            "text/plain": [
              "<Figure size 1008x648 with 1 Axes>"
            ],
            "image/png": "[encoded data removed]"
          },
          "metadata": {}
        }
      ]
    },
    {
      "cell_type": "code",
      "source": [
        "#@title Queries clustering { run: \"auto\" }\n",
        "\n",
        "#@markdown Estrai *n* immagini del cluster di appartenenza dell'immagine data\n",
        "\n",
        "numero_immagini = 10 #@param {type:\"integer\"}\n",
        "file_name = \"Non-Covid (18).png\" #@param {type:\"string\"}\n",
        "method = \"PCA\" #@param [\"PCA\", \"VGG\"]\n",
        "\n",
        "if method == \"VGG\":\n",
        "  cluster = df_vgg[df_vgg['nome'] == file_name].iloc[0]['cluster vgg']\n",
        "  print(f\"Il cluster assegnato all'immagine è il cluster {cluster}. Le prime {numero_immagini} immagini di quel cluster sono: \\n\")\n",
        "  print(df_vgg.loc[df_vgg['cluster vgg'] == cluster][:numero_immagini])\n",
        "\n",
        "else:\n",
        "  cluster = df_pca[df_pca['nome'] == file_name].iloc[0]['cluster pca']\n",
        "  print(f\"Il cluster assegnato all'immagine è il cluster {cluster}. Le prime {numero_immagini} immagini di quel cluster sono: \\n\")\n",
        "  print(df_pca.loc[df_pca['cluster pca'] == cluster][:numero_immagini])\n"
      ],
      "metadata": {
        "colab": {
          "base_uri": "https://localhost:8080/"
        },
        "id": "h9fOL3RR0VJ0",
        "outputId": "42c0b5e8-aa5f-4d48-efbb-490aa7019e90",
        "cellView": "form"
      },
      "execution_count": null,
      "outputs": [
        {
          "output_type": "stream",
          "name": "stdout",
          "text": [
            "Il cluster assegnato all'immagine è il cluster 1. Le prime 10 immagini di quel cluster sono: \n",
            "\n",
            "                   nome  cluster pca  True Label\n",
            "1       Covid (370).png            1           0\n",
            "3       Covid (845).png            1           0\n",
            "4       Covid (858).png            1           0\n",
            "5       Covid (156).png            1           0\n",
            "6       Covid (729).png            1           0\n",
            "7   Non-Covid (665).png            1           1\n",
            "8   Non-Covid (696).png            1           1\n",
            "9   Non-Covid (646).png            1           1\n",
            "10   Non-Covid (36).png            1           1\n",
            "11  Non-Covid (446).png            1           1\n"
          ]
        }
      ]
    },
    {
      "cell_type": "markdown",
      "source": [
        "# DeepLesion dataset"
      ],
      "metadata": {
        "id": "zghxMEyqB3Cq"
      }
    },
    {
      "cell_type": "code",
      "source": [
        "# download dataset\n",
        "%%capture\n",
        "os.chdir('/content')\n",
        "!kaggle datasets download -d matteolimoncini/deeplesion-smallimages\n",
        "!unzip deeplesion-smallimages.zip -d deeplesion-smallimages\n",
        "!rm deeplesion-smallimages.zip\n",
        "\n",
        "# load dataset\n",
        "metadata = pd.read_csv('/content/deeplesion-smallimages/DL_info.csv', sep = ',')"
      ],
      "metadata": {
        "id": "uWl06ICgB7EJ"
      },
      "execution_count": null,
      "outputs": []
    },
    {
      "cell_type": "code",
      "source": [
        "#@title query on csv { run: \"auto\" }\n",
        "#inizialize \n",
        "res = metadata\n",
        "\n",
        "#@markdown quali pazienti hanno età compresa tra x e y { run: \"auto\" }\n",
        "età_x = 1 #@param {type:\"integer\"}\n",
        "età_y = 3 #@param {type:\"integer\"}\n",
        "if età_x is not None:\n",
        "  res = res[(res['Patient_age'] > età_x)]\n",
        "if età_y is not None:\n",
        "  res = res[res['Patient_age'] < età_y]\n",
        "\n",
        "#@markdown filtra i pazienti in base al sesso M/F { run: \"auto\" }\n",
        "gender = \"M\" #@param [\"M\", \"F\", \"\"]\n",
        "if len(gender)!=0:\n",
        "  res = res[(res['Patient_gender'] == gender)]\n",
        "\n",
        "#@markdown filtra i pazienti in base al patient index { run: \"auto\" }\n",
        "patient_index = None #@param {type:\"integer\"}\n",
        "if patient_index is not None:\n",
        "  res = res[(res['Patient_index'] == patient_index)]\n",
        "\n",
        "#@markdown filtra i pazienti in base allo study index { run: \"auto\" }\n",
        "study_index = None #@param {type:\"integer\"}\n",
        "if study_index is not None:\n",
        "  res = res[(res['Study_index'] == study_index)]\n",
        "\n",
        "#@markdown filtra i pazienti in base al filename { run: \"auto\" }\n",
        "file_name = \"\" #@param {type:\"string\"}\n",
        "if len(file_name.strip())!=0:\n",
        "  res = res[(res['File_name'] == file_name.strip())]\n",
        "\n",
        "#@markdown remove possibly noisy { run: \"auto\" }\n",
        "remove_noisy = False #@param {type:\"boolean\"}\n",
        "if remove_noisy:\n",
        "  res = res[(res['Possibly_noisy'] == 0)]\n",
        "\n",
        "\n",
        "print(\"# of results: \" + str(len(res)))\n",
        "\n",
        "res = res[:12]\n",
        "files = []\n",
        "\n",
        "# create the figure\n",
        "\n",
        "NROWS = int(len(res)/3) if len(res)%3 == 0 else int((len(res))/3)+1\n",
        "print(NROWS)\n",
        "fig, axs = plt.subplots(nrows=NROWS, ncols=3, figsize=(15, 15))\n",
        "# flatten the axis into a 1-d array to make it easier to access each axes\n",
        "axs = axs.flatten()\n",
        "for i, img_name in enumerate(res['File_name']):\n",
        "  content_images = '/content/deeplesion-smallimages/Key_slices/Key_slices/'+img_name\n",
        "  pic = plt.imread(content_images)\n",
        "  axs[i].imshow(pic)\n",
        "  axs[i].set(title=img_name)\n",
        "\n",
        "res"
      ],
      "metadata": {
        "colab": {
          "base_uri": "https://localhost:8080/",
          "height": 1000
        },
        "id": "draVTDG2CCym",
        "outputId": "0de135a3-aeb3-47ee-a28a-6318122ef6c1"
      },
      "execution_count": null,
      "outputs": [
        {
          "output_type": "stream",
          "name": "stdout",
          "text": [
            "# of results: 7\n",
            "3\n"
          ]
        },
        {
          "output_type": "execute_result",
          "data": {
            "text/plain": [
              "                  File_name  Patient_index  Study_index  Series_ID  \\\n",
              "4066   000355_01_01_012.png            355            1          1   \n",
              "4067   000355_01_01_010.png            355            1          1   \n",
              "4068   000355_02_01_011.png            355            2          1   \n",
              "4069   000355_02_01_014.png            355            2          1   \n",
              "4070   000355_02_02_081.png            355            2          2   \n",
              "17465  001852_01_01_052.png           1852            1          1   \n",
              "32162  004282_01_01_041.png           4282            1          1   \n",
              "\n",
              "       Key_slice_index                            Measurement_coordinates  \\\n",
              "4066                12  256.889, 272.889, 264.889, 268.444, 262.222, 2...   \n",
              "4067                10  258.667, 262.222, 240.889, 275.556, 248, 279.1...   \n",
              "4068                11  242.667, 246.222, 214.222, 272, 228.444, 274.6...   \n",
              "4069                14  261.333, 265.778, 231.111, 278.222, 246.222, 2...   \n",
              "4070                81  171.255, 195.972, 136.828, 149.186, 133.297, 1...   \n",
              "17465               52  163.546, 216.89, 164.095, 201.526, 157.785, 21...   \n",
              "32162               41  352.335, 259.396, 302.804, 228.439, 340.091, 2...   \n",
              "\n",
              "                           Bounding_boxes Lesion_diameters_Pixel_  \\\n",
              "4066   251.889, 261.667, 269.889, 278.778         9.15167, 7.5947   \n",
              "4067   235.889, 257.222, 263.667, 284.111        22.2222, 13.5683   \n",
              "4068   204.778, 241.222, 247.667, 279.667        38.3872, 31.1111   \n",
              "4069   226.111, 255.444, 266.333, 287.667        32.6841, 23.9341   \n",
              "4070   128.297, 144.186, 176.255, 200.972         58.0879, 43.435   \n",
              "17465   152.785, 196.526, 177.051, 221.89         15.3736, 14.277   \n",
              "32162  297.804, 215.439, 357.335, 269.961        58.4086, 52.5021   \n",
              "\n",
              "         Normalized_lesion_location  Coarse_lesion_type  Possibly_noisy  \\\n",
              "4066   0.499657, 0.387693, 0.433845                  -1               0   \n",
              "4067   0.477991, 0.376288, 0.431413                  -1               0   \n",
              "4068   0.432059, 0.406616, 0.430374                  -1               0   \n",
              "4069   0.471058, 0.445111, 0.452038                  -1               0   \n",
              "4070    0.29259, 0.269188, 0.478483                  -1               0   \n",
              "17465    0.314418, 0.25201, 0.60302                   4               0   \n",
              "32162  0.629681, 0.413575, 0.628557                   2               0   \n",
              "\n",
              "      Slice_range         Spacing_mm_px_ Image_size DICOM_windows  \\\n",
              "4066        4, 18  0.494141, 0.494141, 5   512, 512     -175, 275   \n",
              "4067        4, 18  0.494141, 0.494141, 5   512, 512     -175, 275   \n",
              "4068        5, 20  0.425781, 0.425781, 5   512, 512     -175, 275   \n",
              "4069        5, 20  0.425781, 0.425781, 5   512, 512     -175, 275   \n",
              "4070      51, 111  0.425781, 0.425781, 1   512, 512    -1500, 500   \n",
              "17465      22, 82  0.546875, 0.546875, 1   512, 512     -175, 275   \n",
              "32162      26, 56  0.464844, 0.464844, 2   512, 512     -175, 275   \n",
              "\n",
              "      Patient_gender  Patient_age  Train_Val_Test  \n",
              "4066               M          2.0               1  \n",
              "4067               M          2.0               1  \n",
              "4068               M          2.0               1  \n",
              "4069               M          2.0               1  \n",
              "4070               M          2.0               1  \n",
              "17465              M          2.0               3  \n",
              "32162              M          2.0               3  "
            ],
            "text/html": [
              "\n",
              "  <div id=\"df-78bd71c3-c5f3-4b4d-a271-3d5a020ce992\">\n",
              "    <div class=\"colab-df-container\">\n",
              "      <div>\n",
              "<style scoped>\n",
              "    .dataframe tbody tr th:only-of-type {\n",
              "        vertical-align: middle;\n",
              "    }\n",
              "\n",
              "    .dataframe tbody tr th {\n",
              "        vertical-align: top;\n",
              "    }\n",
              "\n",
              "    .dataframe thead th {\n",
              "        text-align: right;\n",
              "    }\n",
              "</style>\n",
              "<table border=\"1\" class=\"dataframe\">\n",
              "  <thead>\n",
              "    <tr style=\"text-align: right;\">\n",
              "      <th></th>\n",
              "      <th>File_name</th>\n",
              "      <th>Patient_index</th>\n",
              "      <th>Study_index</th>\n",
              "      <th>Series_ID</th>\n",
              "      <th>Key_slice_index</th>\n",
              "      <th>Measurement_coordinates</th>\n",
              "      <th>Bounding_boxes</th>\n",
              "      <th>Lesion_diameters_Pixel_</th>\n",
              "      <th>Normalized_lesion_location</th>\n",
              "      <th>Coarse_lesion_type</th>\n",
              "      <th>Possibly_noisy</th>\n",
              "      <th>Slice_range</th>\n",
              "      <th>Spacing_mm_px_</th>\n",
              "      <th>Image_size</th>\n",
              "      <th>DICOM_windows</th>\n",
              "      <th>Patient_gender</th>\n",
              "      <th>Patient_age</th>\n",
              "      <th>Train_Val_Test</th>\n",
              "    </tr>\n",
              "  </thead>\n",
              "  <tbody>\n",
              "    <tr>\n",
              "      <th>4066</th>\n",
              "      <td>000355_01_01_012.png</td>\n",
              "      <td>355</td>\n",
              "      <td>1</td>\n",
              "      <td>1</td>\n",
              "      <td>12</td>\n",
              "      <td>256.889, 272.889, 264.889, 268.444, 262.222, 2...</td>\n",
              "      <td>251.889, 261.667, 269.889, 278.778</td>\n",
              "      <td>9.15167, 7.5947</td>\n",
              "      <td>0.499657, 0.387693, 0.433845</td>\n",
              "      <td>-1</td>\n",
              "      <td>0</td>\n",
              "      <td>4, 18</td>\n",
              "      <td>0.494141, 0.494141, 5</td>\n",
              "      <td>512, 512</td>\n",
              "      <td>-175, 275</td>\n",
              "      <td>M</td>\n",
              "      <td>2.0</td>\n",
              "      <td>1</td>\n",
              "    </tr>\n",
              "    <tr>\n",
              "      <th>4067</th>\n",
              "      <td>000355_01_01_010.png</td>\n",
              "      <td>355</td>\n",
              "      <td>1</td>\n",
              "      <td>1</td>\n",
              "      <td>10</td>\n",
              "      <td>258.667, 262.222, 240.889, 275.556, 248, 279.1...</td>\n",
              "      <td>235.889, 257.222, 263.667, 284.111</td>\n",
              "      <td>22.2222, 13.5683</td>\n",
              "      <td>0.477991, 0.376288, 0.431413</td>\n",
              "      <td>-1</td>\n",
              "      <td>0</td>\n",
              "      <td>4, 18</td>\n",
              "      <td>0.494141, 0.494141, 5</td>\n",
              "      <td>512, 512</td>\n",
              "      <td>-175, 275</td>\n",
              "      <td>M</td>\n",
              "      <td>2.0</td>\n",
              "      <td>1</td>\n",
              "    </tr>\n",
              "    <tr>\n",
              "      <th>4068</th>\n",
              "      <td>000355_02_01_011.png</td>\n",
              "      <td>355</td>\n",
              "      <td>2</td>\n",
              "      <td>1</td>\n",
              "      <td>11</td>\n",
              "      <td>242.667, 246.222, 214.222, 272, 228.444, 274.6...</td>\n",
              "      <td>204.778, 241.222, 247.667, 279.667</td>\n",
              "      <td>38.3872, 31.1111</td>\n",
              "      <td>0.432059, 0.406616, 0.430374</td>\n",
              "      <td>-1</td>\n",
              "      <td>0</td>\n",
              "      <td>5, 20</td>\n",
              "      <td>0.425781, 0.425781, 5</td>\n",
              "      <td>512, 512</td>\n",
              "      <td>-175, 275</td>\n",
              "      <td>M</td>\n",
              "      <td>2.0</td>\n",
              "      <td>1</td>\n",
              "    </tr>\n",
              "    <tr>\n",
              "      <th>4069</th>\n",
              "      <td>000355_02_01_014.png</td>\n",
              "      <td>355</td>\n",
              "      <td>2</td>\n",
              "      <td>1</td>\n",
              "      <td>14</td>\n",
              "      <td>261.333, 265.778, 231.111, 278.222, 246.222, 2...</td>\n",
              "      <td>226.111, 255.444, 266.333, 287.667</td>\n",
              "      <td>32.6841, 23.9341</td>\n",
              "      <td>0.471058, 0.445111, 0.452038</td>\n",
              "      <td>-1</td>\n",
              "      <td>0</td>\n",
              "      <td>5, 20</td>\n",
              "      <td>0.425781, 0.425781, 5</td>\n",
              "      <td>512, 512</td>\n",
              "      <td>-175, 275</td>\n",
              "      <td>M</td>\n",
              "      <td>2.0</td>\n",
              "      <td>1</td>\n",
              "    </tr>\n",
              "    <tr>\n",
              "      <th>4070</th>\n",
              "      <td>000355_02_02_081.png</td>\n",
              "      <td>355</td>\n",
              "      <td>2</td>\n",
              "      <td>2</td>\n",
              "      <td>81</td>\n",
              "      <td>171.255, 195.972, 136.828, 149.186, 133.297, 1...</td>\n",
              "      <td>128.297, 144.186, 176.255, 200.972</td>\n",
              "      <td>58.0879, 43.435</td>\n",
              "      <td>0.29259, 0.269188, 0.478483</td>\n",
              "      <td>-1</td>\n",
              "      <td>0</td>\n",
              "      <td>51, 111</td>\n",
              "      <td>0.425781, 0.425781, 1</td>\n",
              "      <td>512, 512</td>\n",
              "      <td>-1500, 500</td>\n",
              "      <td>M</td>\n",
              "      <td>2.0</td>\n",
              "      <td>1</td>\n",
              "    </tr>\n",
              "    <tr>\n",
              "      <th>17465</th>\n",
              "      <td>001852_01_01_052.png</td>\n",
              "      <td>1852</td>\n",
              "      <td>1</td>\n",
              "      <td>1</td>\n",
              "      <td>52</td>\n",
              "      <td>163.546, 216.89, 164.095, 201.526, 157.785, 21...</td>\n",
              "      <td>152.785, 196.526, 177.051, 221.89</td>\n",
              "      <td>15.3736, 14.277</td>\n",
              "      <td>0.314418, 0.25201, 0.60302</td>\n",
              "      <td>4</td>\n",
              "      <td>0</td>\n",
              "      <td>22, 82</td>\n",
              "      <td>0.546875, 0.546875, 1</td>\n",
              "      <td>512, 512</td>\n",
              "      <td>-175, 275</td>\n",
              "      <td>M</td>\n",
              "      <td>2.0</td>\n",
              "      <td>3</td>\n",
              "    </tr>\n",
              "    <tr>\n",
              "      <th>32162</th>\n",
              "      <td>004282_01_01_041.png</td>\n",
              "      <td>4282</td>\n",
              "      <td>1</td>\n",
              "      <td>1</td>\n",
              "      <td>41</td>\n",
              "      <td>352.335, 259.396, 302.804, 228.439, 340.091, 2...</td>\n",
              "      <td>297.804, 215.439, 357.335, 269.961</td>\n",
              "      <td>58.4086, 52.5021</td>\n",
              "      <td>0.629681, 0.413575, 0.628557</td>\n",
              "      <td>2</td>\n",
              "      <td>0</td>\n",
              "      <td>26, 56</td>\n",
              "      <td>0.464844, 0.464844, 2</td>\n",
              "      <td>512, 512</td>\n",
              "      <td>-175, 275</td>\n",
              "      <td>M</td>\n",
              "      <td>2.0</td>\n",
              "      <td>3</td>\n",
              "    </tr>\n",
              "  </tbody>\n",
              "</table>\n",
              "</div>\n",
              "      <button class=\"colab-df-convert\" onclick=\"convertToInteractive('df-78bd71c3-c5f3-4b4d-a271-3d5a020ce992')\"\n",
              "              title=\"Convert this dataframe to an interactive table.\"\n",
              "              style=\"display:none;\">\n",
              "        \n",
              "  <svg xmlns=\"http://www.w3.org/2000/svg\" height=\"24px\"viewBox=\"0 0 24 24\"\n",
              "       width=\"24px\">\n",
              "    <path d=\"M0 0h24v24H0V0z\" fill=\"none\"/>\n",
              "    <path d=\"M18.56 5.44l.94 2.06.94-2.06 2.06-.94-2.06-.94-.94-2.06-.94 2.06-2.06.94zm-11 1L8.5 8.5l.94-2.06 2.06-.94-2.06-.94L8.5 2.5l-.94 2.06-2.06.94zm10 10l.94 2.06.94-2.06 2.06-.94-2.06-.94-.94-2.06-.94 2.06-2.06.94z\"/><path d=\"M17.41 7.96l-1.37-1.37c-.4-.4-.92-.59-1.43-.59-.52 0-1.04.2-1.43.59L10.3 9.45l-7.72 7.72c-.78.78-.78 2.05 0 2.83L4 21.41c.39.39.9.59 1.41.59.51 0 1.02-.2 1.41-.59l7.78-7.78 2.81-2.81c.8-.78.8-2.07 0-2.86zM5.41 20L4 18.59l7.72-7.72 1.47 1.35L5.41 20z\"/>\n",
              "  </svg>\n",
              "      </button>\n",
              "      \n",
              "  <style>\n",
              "    .colab-df-container {\n",
              "      display:flex;\n",
              "      flex-wrap:wrap;\n",
              "      gap: 12px;\n",
              "    }\n",
              "\n",
              "    .colab-df-convert {\n",
              "      background-color: #E8F0FE;\n",
              "      border: none;\n",
              "      border-radius: 50%;\n",
              "      cursor: pointer;\n",
              "      display: none;\n",
              "      fill: #1967D2;\n",
              "      height: 32px;\n",
              "      padding: 0 0 0 0;\n",
              "      width: 32px;\n",
              "    }\n",
              "\n",
              "    .colab-df-convert:hover {\n",
              "      background-color: #E2EBFA;\n",
              "      box-shadow: 0px 1px 2px rgba(60, 64, 67, 0.3), 0px 1px 3px 1px rgba(60, 64, 67, 0.15);\n",
              "      fill: #174EA6;\n",
              "    }\n",
              "\n",
              "    [theme=dark] .colab-df-convert {\n",
              "      background-color: #3B4455;\n",
              "      fill: #D2E3FC;\n",
              "    }\n",
              "\n",
              "    [theme=dark] .colab-df-convert:hover {\n",
              "      background-color: #434B5C;\n",
              "      box-shadow: 0px 1px 3px 1px rgba(0, 0, 0, 0.15);\n",
              "      filter: drop-shadow(0px 1px 2px rgba(0, 0, 0, 0.3));\n",
              "      fill: #FFFFFF;\n",
              "    }\n",
              "  </style>\n",
              "\n",
              "      <script>\n",
              "        const buttonEl =\n",
              "          document.querySelector('#df-78bd71c3-c5f3-4b4d-a271-3d5a020ce992 button.colab-df-convert');\n",
              "        buttonEl.style.display =\n",
              "          google.colab.kernel.accessAllowed ? 'block' : 'none';\n",
              "\n",
              "        async function convertToInteractive(key) {\n",
              "          const element = document.querySelector('#df-78bd71c3-c5f3-4b4d-a271-3d5a020ce992');\n",
              "          const dataTable =\n",
              "            await google.colab.kernel.invokeFunction('convertToInteractive',\n",
              "                                                     [key], {});\n",
              "          if (!dataTable) return;\n",
              "\n",
              "          const docLinkHtml = 'Like what you see? Visit the ' +\n",
              "            '<a target=\"_blank\" href=https://colab.research.google.com/notebooks/data_table.ipynb>data table notebook</a>'\n",
              "            + ' to learn more about interactive tables.';\n",
              "          element.innerHTML = '';\n",
              "          dataTable['output_type'] = 'display_data';\n",
              "          await google.colab.output.renderOutput(dataTable, element);\n",
              "          const docLink = document.createElement('div');\n",
              "          docLink.innerHTML = docLinkHtml;\n",
              "          element.appendChild(docLink);\n",
              "        }\n",
              "      </script>\n",
              "    </div>\n",
              "  </div>\n",
              "  "
            ]
          },
          "metadata": {},
          "execution_count": 62
        },
        {
          "output_type": "display_data",
          "data": {
            "text/plain": [
              "<Figure size 1080x1080 with 9 Axes>"
            ],
            "image/png": "[encoded data removed]"
          },
          "metadata": {}
        }
      ]
    }
  ]
}